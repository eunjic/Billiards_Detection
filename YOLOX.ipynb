{
 "cells": [
  {
   "cell_type": "code",
   "execution_count": null,
   "id": "3b3b6c06",
   "metadata": {},
   "outputs": [],
   "source": [
    "TEST_IMAGE_PATH = \"C:/Users/iai/Desktop/video_extraction/test/test.mp4\"\n",
    "!python C:/Users/iai/Desktop/video_extraction/YOLOX/tools/demo.py video -f C:/Users/iai/Desktop/video_extraction/YOLOX/exps/example/yolox_voc/yolox_voc_s.py -c C:/Users/iai/Desktop/video_extraction/YOLOX/best_ckpt.pth.tar --path {TEST_IMAGE_PATH} --conf 0.25 --nms 0.45 --tsize 640 --save_result --device gpu      "
   ]
  },
  {
   "cell_type": "code",
   "execution_count": 2,
   "id": "5cada5e6",
   "metadata": {},
   "outputs": [
    {
     "data": {
      "text/plain": [
       "{'white ball': [22.5, 80.0],\n",
       " 'red ball': [505.0, 323.5],\n",
       " 'yellow ball': [504.5, 323.5]}"
      ]
     },
     "execution_count": 2,
     "metadata": {},
     "output_type": "execute_result"
    }
   ],
   "source": [
    "import json\n",
    "#test4\n",
    "coord = json.load(open(\"coord.json\"))\n",
    "#딕셔너리 형태로 가져오기!\n",
    "coord"
   ]
  },
  {
   "cell_type": "code",
   "execution_count": 16,
   "id": "3207e91a",
   "metadata": {},
   "outputs": [
    {
     "name": "stdout",
     "output_type": "stream",
     "text": [
      "three!\n"
     ]
    },
    {
     "name": "stderr",
     "output_type": "stream",
     "text": [
      "\u001b[32m2022-03-30 15:43:02.523\u001b[0m | \u001b[1mINFO    \u001b[0m | \u001b[36m__main__\u001b[0m:\u001b[36mmain\u001b[0m:\u001b[36m253\u001b[0m - \u001b[1mArgs: Namespace(camid=0, ckpt='C:/Users/iai/Desktop/video_extraction/YOLOX/best_ckpt.pth.tar', conf=0.25, demo='image', device='gpu', exp_file='C:/Users/iai/Desktop/video_extraction/YOLOX/exps/example/yolox_voc/yolox_voc_s.py', experiment_name='yolox_voc_s', fp16=False, fuse=False, name=None, nms=0.45, path='C:/Users/iai/Desktop/video_extraction/test/test4.png', save_result=True, trt=False, tsize=640)\u001b[0m\n",
      "\u001b[32m2022-03-30 15:43:02.810\u001b[0m | \u001b[1mINFO    \u001b[0m | \u001b[36m__main__\u001b[0m:\u001b[36mmain\u001b[0m:\u001b[36m263\u001b[0m - \u001b[1mModel Summary: Params: 8.94M, Gflops: 26.64\u001b[0m\n",
      "\u001b[32m2022-03-30 15:43:04.079\u001b[0m | \u001b[1mINFO    \u001b[0m | \u001b[36m__main__\u001b[0m:\u001b[36mmain\u001b[0m:\u001b[36m274\u001b[0m - \u001b[1mloading checkpoint\u001b[0m\n",
      "\u001b[32m2022-03-30 15:43:04.200\u001b[0m | \u001b[1mINFO    \u001b[0m | \u001b[36m__main__\u001b[0m:\u001b[36mmain\u001b[0m:\u001b[36m278\u001b[0m - \u001b[1mloaded checkpoint done.\u001b[0m\n",
      "\u001b[32m2022-03-30 15:43:04.613\u001b[0m | \u001b[1mINFO    \u001b[0m | \u001b[36m__main__\u001b[0m:\u001b[36minference\u001b[0m:\u001b[36m151\u001b[0m - \u001b[1mInfer time: 0.3909s\u001b[0m\n",
      "\u001b[32m2022-03-30 15:43:04.614\u001b[0m | \u001b[1mINFO    \u001b[0m | \u001b[36m__main__\u001b[0m:\u001b[36mimage_demo\u001b[0m:\u001b[36m194\u001b[0m - \u001b[1mSaving detection result in ./YOLOX_outputs\\yolox_voc_s\\vis_res\\test4.png\u001b[0m\n"
     ]
    }
   ],
   "source": [
    "TEST_IMAGE_PATH = \"C:/Users/iai/Desktop/video_extraction/test/test4.png\"\n",
    "!python C:/Users/iai/Desktop/video_extraction/YOLOX/tools/demo.py image -f C:/Users/iai/Desktop/video_extraction/YOLOX/exps/example/yolox_voc/yolox_voc_s.py -c C:/Users/iai/Desktop/video_extraction/YOLOX/best_ckpt.pth.tar --path {TEST_IMAGE_PATH} --conf 0.25 --nms 0.45 --tsize 640 --save_result --device gpu"
   ]
  },
  {
   "cell_type": "code",
   "execution_count": 6,
   "id": "5235bc4f",
   "metadata": {},
   "outputs": [
    {
     "data": {
      "text/plain": [
       "{'white ball': [22.5, 80.0],\n",
       " 'red ball': [9.0, 13.5],\n",
       " 'yellow ball': [497.0, 331.0]}"
      ]
     },
     "execution_count": 6,
     "metadata": {},
     "output_type": "execute_result"
    }
   ],
   "source": [
    "import json\n",
    "#test4_1\n",
    "coord = json.load(open(\"coord.json\"))\n",
    "#딕셔너리 형태로 가져오기!\n",
    "coord"
   ]
  },
  {
   "cell_type": "code",
   "execution_count": 16,
   "id": "c6107c3e",
   "metadata": {},
   "outputs": [
    {
     "data": {
      "text/plain": [
       "[{'white ball': [349.5, 434.5],\n",
       "  'yellow ball': [350.0, 364.5],\n",
       "  'red ball': [927.5, 367.5]},\n",
       " {'white ball': [349.5, 434.5],\n",
       "  'yellow ball': [350.0, 364.5],\n",
       "  'red ball': [927.5, 367.5]}]"
      ]
     },
     "execution_count": 16,
     "metadata": {},
     "output_type": "execute_result"
    }
   ],
   "source": [
    "coord_list = [coord, coord]\n",
    "coord_list"
   ]
  },
  {
   "cell_type": "markdown",
   "id": "67e9d7f9",
   "metadata": {},
   "source": [
    "제1 목적구"
   ]
  },
  {
   "cell_type": "code",
   "execution_count": 12,
   "id": "67a1bb61",
   "metadata": {},
   "outputs": [],
   "source": [
    "info_dict = {'white ball': \"?\",\n",
    " 'yellow ball': \"?\",\n",
    " 'red ball': \"?\",\n",
    "  'skill': \"?\"}\n",
    "# cue_ball / 1_object_ball / 2_object_ball / skill name"
   ]
  },
  {
   "cell_type": "code",
   "execution_count": 19,
   "id": "f1e85946",
   "metadata": {},
   "outputs": [
    {
     "data": {
      "text/plain": [
       "[{'a': [349.5, 434.5], 'b': [350.0, 364.5], 'c': [927.5, 367.5]},\n",
       " {'a': [349.5, 434.5], 'b': [350.0, 364.5], 'c': [927.5, 367.5]}]"
      ]
     },
     "execution_count": 19,
     "metadata": {},
     "output_type": "execute_result"
    }
   ],
   "source": [
    "change_list = []\n",
    "for x in coord_list:\n",
    "    change_list.append(dict((info_list[key],value) for (key, value) in x.items()))\n",
    "change_list\n",
    "#이 코드 그대로 가져가서 쓰기!!"
   ]
  },
  {
   "cell_type": "code",
   "execution_count": 14,
   "id": "332a169e",
   "metadata": {},
   "outputs": [
    {
     "data": {
      "text/plain": [
       "True"
      ]
     },
     "execution_count": 14,
     "metadata": {},
     "output_type": "execute_result"
    }
   ],
   "source": [
    "import matplotlib.pyplot as plt\n",
    "import cv2\n",
    "roi = (293,181,718,358)\n",
    "TEST_IMAGE_PATH = \"C:/Users/iai/Desktop/video_extraction/video_frame/009/45001.png\"\n",
    "im = cv2.imread(TEST_IMAGE_PATH) \n",
    "\n",
    "im = im[roi[1]:roi[1] + roi[3],  roi[0]:roi[0] + roi[2]]\n",
    "im = cv2.resize(im, dsize=(1224, 612), interpolation=cv2.INTER_AREA)\n",
    "path = \"C:/Users/iai/Desktop/video_extraction/video_frame/test/1.png\"\n",
    "cv2.imwrite(path, im)\n"
   ]
  },
  {
   "cell_type": "code",
   "execution_count": 3,
   "id": "435a60ad",
   "metadata": {},
   "outputs": [
    {
     "name": "stdout",
     "output_type": "stream",
     "text": [
      "{'white ball': [679.0, 144.5], 'red ball': [251.0, 237.5], 'yellow ball': [554.5, 147.0]}\n"
     ]
    }
   ],
   "source": [
    "TEST_IMAGE_PATH = \"C:/Users/iai/Desktop/video_extraction/video_frame/test/1.png\"\n",
    "!python C:/Users/iai/Desktop/video_extraction/YOLOX/tools/demo.py image -f C:/Users/iai/Desktop/video_extraction/YOLOX/exps/example/yolox_voc/yolox_voc_s.py -c C:/Users/iai/Desktop/video_extraction/YOLOX/best_ckpt.pth.tar --path {TEST_IMAGE_PATH} --conf 0.25 --nms 0.45 --tsize 640 --save_result --device gpu"
   ]
  },
  {
   "cell_type": "code",
   "execution_count": 6,
   "id": "aab3ffb4",
   "metadata": {},
   "outputs": [
    {
     "data": {
      "image/png": "[encoded data removed]",
      "text/plain": [
       "<Figure size 432x288 with 1 Axes>"
      ]
     },
     "metadata": {
      "needs_background": "light"
     },
     "output_type": "display_data"
    }
   ],
   "source": [
    "import matplotlib.pyplot as plt\n",
    "import json\n",
    "\n",
    "coord = json.load(open(\"coord.json\"))\n",
    "im = plt.imread(TEST_IMAGE_PATH)\n",
    "plt.imshow(im)\n",
    "# put a red dot, size 40, at 2 locations:\n",
    "# plt.gca().invert_yaxis()\n",
    "plt.scatter(x=[coord['yellow ball'][0]], y=[coord['yellow ball'][1]], c='b', s=10)\n",
    "plt.scatter(x=[coord['white ball'][0]], y=[coord['white ball'][1]], c='r', s=10)\n",
    "plt.scatter(x=[coord['red ball'][0]], y=[coord['red ball'][1]], c='w', s=10)\n",
    "\n",
    "plt.show()"
   ]
  },
  {
   "cell_type": "code",
   "execution_count": null,
   "id": "4dfbdf11",
   "metadata": {},
   "outputs": [],
   "source": []
  }
 ],
 "metadata": {
  "kernelspec": {
   "display_name": "Pytorch",
   "language": "python",
   "name": "pytorch"
  },
  "language_info": {
   "codemirror_mode": {
    "name": "ipython",
    "version": 3
   },
   "file_extension": ".py",
   "mimetype": "text/x-python",
   "name": "python",
   "nbconvert_exporter": "python",
   "pygments_lexer": "ipython3",
   "version": "3.7.12"
  }
 },
 "nbformat": 4,
 "nbformat_minor": 5
}
