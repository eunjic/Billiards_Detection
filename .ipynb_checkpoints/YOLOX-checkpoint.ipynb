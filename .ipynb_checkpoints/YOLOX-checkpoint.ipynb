{
 "cells": [
  {
   "cell_type": "code",
   "execution_count": 1,
   "id": "3b3b6c06",
   "metadata": {},
   "outputs": [
    {
     "name": "stderr",
     "output_type": "stream",
     "text": [
      "\u001b[32m2022-03-30 14:18:40.558\u001b[0m | \u001b[1mINFO    \u001b[0m | \u001b[36m__main__\u001b[0m:\u001b[36mmain\u001b[0m:\u001b[36m272\u001b[0m - \u001b[1mArgs: Namespace(camid=0, ckpt='C:/Users/iai/Desktop/video_extraction/YOLOX/best_ckpt.pth.tar', conf=0.25, demo='image', device='gpu', exp_file='C:/Users/iai/Desktop/video_extraction/YOLOX/exps/example/yolox_voc/yolox_voc_s.py', experiment_name='yolox_voc_s', fp16=False, fuse=False, name=None, nms=0.45, path='C:/Users/iai/Desktop/video_extraction/test/test4.png', save_result=True, trt=False, tsize=640)\u001b[0m\n",
      "\u001b[32m2022-03-30 14:18:40.960\u001b[0m | \u001b[1mINFO    \u001b[0m | \u001b[36m__main__\u001b[0m:\u001b[36mmain\u001b[0m:\u001b[36m282\u001b[0m - \u001b[1mModel Summary: Params: 8.94M, Gflops: 26.64\u001b[0m\n",
      "\u001b[32m2022-03-30 14:18:44.213\u001b[0m | \u001b[1mINFO    \u001b[0m | \u001b[36m__main__\u001b[0m:\u001b[36mmain\u001b[0m:\u001b[36m293\u001b[0m - \u001b[1mloading checkpoint\u001b[0m\n",
      "\u001b[32m2022-03-30 14:18:44.526\u001b[0m | \u001b[1mINFO    \u001b[0m | \u001b[36m__main__\u001b[0m:\u001b[36mmain\u001b[0m:\u001b[36m297\u001b[0m - \u001b[1mloaded checkpoint done.\u001b[0m\n",
      "\u001b[32m2022-03-30 14:18:45.825\u001b[0m | \u001b[1mINFO    \u001b[0m | \u001b[36m__main__\u001b[0m:\u001b[36minference\u001b[0m:\u001b[36m151\u001b[0m - \u001b[1mInfer time: 1.2634s\u001b[0m\n",
      "\u001b[32m2022-03-30 14:18:45.832\u001b[0m | \u001b[1mINFO    \u001b[0m | \u001b[36m__main__\u001b[0m:\u001b[36mimage_demo\u001b[0m:\u001b[36m213\u001b[0m - \u001b[1mSaving detection result in ./YOLOX_outputs\\yolox_voc_s\\vis_res\\test4.png\u001b[0m\n"
     ]
    }
   ],
   "source": [
    "TEST_IMAGE_PATH = \"C:/Users/iai/Desktop/video_extraction/test/test4.png\"\n",
    "!python C:/Users/iai/Desktop/video_extraction/YOLOX/tools/demo.py image -f C:/Users/iai/Desktop/video_extraction/YOLOX/exps/example/yolox_voc/yolox_voc_s.py -c C:/Users/iai/Desktop/video_extraction/YOLOX/best_ckpt.pth.tar --path {TEST_IMAGE_PATH} --conf 0.25 --nms 0.45 --tsize 640 --save_result --device gpu"
   ]
  },
  {
   "cell_type": "code",
   "execution_count": 2,
   "id": "5cada5e6",
   "metadata": {},
   "outputs": [
    {
     "data": {
      "text/plain": [
       "{'white ball': [22.5, 80.0],\n",
       " 'red ball': [505.0, 323.5],\n",
       " 'yellow ball': [504.5, 323.5]}"
      ]
     },
     "execution_count": 2,
     "metadata": {},
     "output_type": "execute_result"
    }
   ],
   "source": [
    "import json\n",
    "#test4\n",
    "coord = json.load(open(\"coord.json\"))\n",
    "#딕셔너리 형태로 가져오기!\n",
    "coord"
   ]
  },
  {
   "cell_type": "code",
   "execution_count": 3,
   "id": "1ecf81e4",
   "metadata": {},
   "outputs": [
    {
     "name": "stderr",
     "output_type": "stream",
     "text": [
      "\u001b[32m2022-03-30 14:23:59.033\u001b[0m | \u001b[1mINFO    \u001b[0m | \u001b[36m__main__\u001b[0m:\u001b[36mmain\u001b[0m:\u001b[36m272\u001b[0m - \u001b[1mArgs: Namespace(camid=0, ckpt='C:/Users/iai/Desktop/video_extraction/YOLOX/best_ckpt.pth.tar', conf=0.25, demo='image', device='gpu', exp_file='C:/Users/iai/Desktop/video_extraction/YOLOX/exps/example/yolox_voc/yolox_voc_s.py', experiment_name='yolox_voc_s', fp16=False, fuse=False, name=None, nms=0.45, path='C:/Users/iai/Desktop/video_extraction/test/test4_1.png', save_result=True, trt=False, tsize=640)\u001b[0m\n",
      "\u001b[32m2022-03-30 14:23:59.340\u001b[0m | \u001b[1mINFO    \u001b[0m | \u001b[36m__main__\u001b[0m:\u001b[36mmain\u001b[0m:\u001b[36m282\u001b[0m - \u001b[1mModel Summary: Params: 8.94M, Gflops: 26.64\u001b[0m\n",
      "\u001b[32m2022-03-30 14:24:00.638\u001b[0m | \u001b[1mINFO    \u001b[0m | \u001b[36m__main__\u001b[0m:\u001b[36mmain\u001b[0m:\u001b[36m293\u001b[0m - \u001b[1mloading checkpoint\u001b[0m\n",
      "\u001b[32m2022-03-30 14:24:00.756\u001b[0m | \u001b[1mINFO    \u001b[0m | \u001b[36m__main__\u001b[0m:\u001b[36mmain\u001b[0m:\u001b[36m297\u001b[0m - \u001b[1mloaded checkpoint done.\u001b[0m\n",
      "\u001b[32m2022-03-30 14:24:01.185\u001b[0m | \u001b[1mINFO    \u001b[0m | \u001b[36m__main__\u001b[0m:\u001b[36minference\u001b[0m:\u001b[36m151\u001b[0m - \u001b[1mInfer time: 0.4075s\u001b[0m\n",
      "\u001b[32m2022-03-30 14:24:01.187\u001b[0m | \u001b[1mINFO    \u001b[0m | \u001b[36m__main__\u001b[0m:\u001b[36mimage_demo\u001b[0m:\u001b[36m213\u001b[0m - \u001b[1mSaving detection result in ./YOLOX_outputs\\yolox_voc_s\\vis_res\\test4_1.png\u001b[0m\n"
     ]
    }
   ],
   "source": [
    "TEST_IMAGE_PATH = \"C:/Users/iai/Desktop/video_extraction/test/test4_1.png\"\n",
    "!python C:/Users/iai/Desktop/video_extraction/YOLOX/tools/demo.py image -f C:/Users/iai/Desktop/video_extraction/YOLOX/exps/example/yolox_voc/yolox_voc_s.py -c C:/Users/iai/Desktop/video_extraction/YOLOX/best_ckpt.pth.tar --path {TEST_IMAGE_PATH} --conf 0.25 --nms 0.45 --tsize 640 --save_result --device gpu"
   ]
  },
  {
   "cell_type": "code",
   "execution_count": 4,
   "id": "455d2b1c",
   "metadata": {},
   "outputs": [
    {
     "data": {
      "text/plain": [
       "{'white ball': [22.5, 80.0],\n",
       " 'red ball': [9.0, 13.5],\n",
       " 'yellow ball': [497.0, 331.0]}"
      ]
     },
     "execution_count": 4,
     "metadata": {},
     "output_type": "execute_result"
    }
   ],
   "source": [
    "import json\n",
    "#test4_1\n",
    "coord = json.load(open(\"coord.json\"))\n",
    "#딕셔너리 형태로 가져오기!\n",
    "coord"
   ]
  },
  {
   "cell_type": "code",
   "execution_count": 16,
   "id": "c6107c3e",
   "metadata": {},
   "outputs": [
    {
     "data": {
      "text/plain": [
       "[{'white ball': [349.5, 434.5],\n",
       "  'yellow ball': [350.0, 364.5],\n",
       "  'red ball': [927.5, 367.5]},\n",
       " {'white ball': [349.5, 434.5],\n",
       "  'yellow ball': [350.0, 364.5],\n",
       "  'red ball': [927.5, 367.5]}]"
      ]
     },
     "execution_count": 16,
     "metadata": {},
     "output_type": "execute_result"
    }
   ],
   "source": [
    "coord_list = [coord, coord]\n",
    "coord_list"
   ]
  },
  {
   "cell_type": "markdown",
   "id": "67e9d7f9",
   "metadata": {},
   "source": [
    "제1 목적구"
   ]
  },
  {
   "cell_type": "code",
   "execution_count": 12,
   "id": "67a1bb61",
   "metadata": {},
   "outputs": [],
   "source": [
    "info_dict = {'white ball': \"?\",\n",
    " 'yellow ball': \"?\",\n",
    " 'red ball': \"?\",\n",
    "  'skill': \"?\"}\n",
    "# cue_ball / 1_object_ball / 2_object_ball / skill name"
   ]
  },
  {
   "cell_type": "code",
   "execution_count": 19,
   "id": "f1e85946",
   "metadata": {},
   "outputs": [
    {
     "data": {
      "text/plain": [
       "[{'a': [349.5, 434.5], 'b': [350.0, 364.5], 'c': [927.5, 367.5]},\n",
       " {'a': [349.5, 434.5], 'b': [350.0, 364.5], 'c': [927.5, 367.5]}]"
      ]
     },
     "execution_count": 19,
     "metadata": {},
     "output_type": "execute_result"
    }
   ],
   "source": [
    "change_list = []\n",
    "for x in coord_list:\n",
    "    change_list.append(dict((info_list[key],value) for (key, value) in x.items()))\n",
    "change_list\n",
    "#이 코드 그대로 가져가서 쓰기!!"
   ]
  },
  {
   "cell_type": "code",
   "execution_count": null,
   "id": "332a169e",
   "metadata": {},
   "outputs": [],
   "source": []
  }
 ],
 "metadata": {
  "kernelspec": {
   "display_name": "Python 3 (ipykernel)",
   "language": "python",
   "name": "python3"
  },
  "language_info": {
   "codemirror_mode": {
    "name": "ipython",
    "version": 3
   },
   "file_extension": ".py",
   "mimetype": "text/x-python",
   "name": "python",
   "nbconvert_exporter": "python",
   "pygments_lexer": "ipython3",
   "version": "3.9.7"
  }
 },
 "nbformat": 4,
 "nbformat_minor": 5
}
