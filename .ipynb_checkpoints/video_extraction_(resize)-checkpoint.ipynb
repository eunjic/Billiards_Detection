{
 "cells": [
  {
   "cell_type": "code",
   "execution_count": 1,
   "id": "e85b705e",
   "metadata": {},
   "outputs": [],
   "source": [
    "from tensorflow.keras.applications.vgg19 import VGG19, decode_predictions,preprocess_input\n",
    "from tensorflow.keras.preprocessing import image\n",
    "from tensorflow.keras.models import Model\n",
    "import matplotlib.pyplot as plt\n",
    "import numpy as np\n",
    "import pandas as pd\n",
    "import tensorflow as tf\n",
    " \n",
    "from numpy import argmax\n",
    "import cv2\n",
    "import os\n",
    "import json\n",
    "import shutil\n",
    "  \n",
    "import os.path\n",
    "from moviepy.editor import *\n",
    "from pytube import YouTube\n",
    "import math\n",
    "from pytube import Playlist\n",
    "\n",
    "\n",
    "#점과 점사이 유클리드 거리 함수 정의\n",
    "def distance(x1, y1, x2, y2):\n",
    "    result = math.sqrt( math.pow(x1 - x2, 2) + math.pow(y1 - y2, 2))\n",
    "    return result\n"
   ]
  },
  {
   "cell_type": "code",
   "execution_count": 2,
   "id": "67a8b350",
   "metadata": {},
   "outputs": [
    {
     "name": "stdout",
     "output_type": "stream",
     "text": [
      "000_00video open\n",
      "000_00 video finish\n",
      "Moviepy - Building video C:/Users/iai/Desktop/video_extraction/outputs/000/00/00.mp4.\n",
      "Moviepy - Writing video C:/Users/iai/Desktop/video_extraction/outputs/000/00/00.mp4\n",
      "\n"
     ]
    },
    {
     "name": "stderr",
     "output_type": "stream",
     "text": [
      "                                                                                                                       \r"
     ]
    },
    {
     "name": "stdout",
     "output_type": "stream",
     "text": [
      "Moviepy - Done !\n",
      "Moviepy - video ready C:/Users/iai/Desktop/video_extraction/outputs/000/00/00.mp4\n",
      "000_01video open\n",
      "000_01 video finish\n",
      "Moviepy - Building video C:/Users/iai/Desktop/video_extraction/outputs/000/01/01.mp4.\n",
      "Moviepy - Writing video C:/Users/iai/Desktop/video_extraction/outputs/000/01/01.mp4\n",
      "\n"
     ]
    },
    {
     "name": "stderr",
     "output_type": "stream",
     "text": [
      "                                                                                                                       \r"
     ]
    },
    {
     "name": "stdout",
     "output_type": "stream",
     "text": [
      "Moviepy - Done !\n",
      "Moviepy - video ready C:/Users/iai/Desktop/video_extraction/outputs/000/01/01.mp4\n",
      "000_03video open\n",
      "000_03 video finish\n",
      "Moviepy - Building video C:/Users/iai/Desktop/video_extraction/outputs/000/03/03.mp4.\n",
      "Moviepy - Writing video C:/Users/iai/Desktop/video_extraction/outputs/000/03/03.mp4\n",
      "\n"
     ]
    },
    {
     "name": "stderr",
     "output_type": "stream",
     "text": [
      "                                                                                                                       \r"
     ]
    },
    {
     "name": "stdout",
     "output_type": "stream",
     "text": [
      "Moviepy - Done !\n",
      "Moviepy - video ready C:/Users/iai/Desktop/video_extraction/outputs/000/03/03.mp4\n",
      "000_04video open\n",
      "000_04 video finish\n",
      "Moviepy - Building video C:/Users/iai/Desktop/video_extraction/outputs/000/04/04.mp4.\n",
      "Moviepy - Writing video C:/Users/iai/Desktop/video_extraction/outputs/000/04/04.mp4\n",
      "\n"
     ]
    },
    {
     "name": "stderr",
     "output_type": "stream",
     "text": [
      "                                                                                                                       \r"
     ]
    },
    {
     "name": "stdout",
     "output_type": "stream",
     "text": [
      "Moviepy - Done !\n",
      "Moviepy - video ready C:/Users/iai/Desktop/video_extraction/outputs/000/04/04.mp4\n",
      "000_06video open\n",
      "000_06 video finish\n",
      "Moviepy - Building video C:/Users/iai/Desktop/video_extraction/outputs/000/06/06.mp4.\n",
      "Moviepy - Writing video C:/Users/iai/Desktop/video_extraction/outputs/000/06/06.mp4\n",
      "\n"
     ]
    },
    {
     "name": "stderr",
     "output_type": "stream",
     "text": [
      "                                                                                                                       \r"
     ]
    },
    {
     "name": "stdout",
     "output_type": "stream",
     "text": [
      "Moviepy - Done !\n",
      "Moviepy - video ready C:/Users/iai/Desktop/video_extraction/outputs/000/06/06.mp4\n",
      "000_07video open\n",
      "000_07 video finish\n",
      "Moviepy - Building video C:/Users/iai/Desktop/video_extraction/outputs/000/07/07.mp4.\n",
      "Moviepy - Writing video C:/Users/iai/Desktop/video_extraction/outputs/000/07/07.mp4\n",
      "\n"
     ]
    },
    {
     "name": "stderr",
     "output_type": "stream",
     "text": [
      "                                                                                                                       \r"
     ]
    },
    {
     "name": "stdout",
     "output_type": "stream",
     "text": [
      "Moviepy - Done !\n",
      "Moviepy - video ready C:/Users/iai/Desktop/video_extraction/outputs/000/07/07.mp4\n",
      "000_08video open\n",
      "000_08 video finish\n",
      "Moviepy - Building video C:/Users/iai/Desktop/video_extraction/outputs/000/08/08.mp4.\n",
      "Moviepy - Writing video C:/Users/iai/Desktop/video_extraction/outputs/000/08/08.mp4\n",
      "\n"
     ]
    },
    {
     "name": "stderr",
     "output_type": "stream",
     "text": [
      "                                                                                                                       \r"
     ]
    },
    {
     "name": "stdout",
     "output_type": "stream",
     "text": [
      "Moviepy - Done !\n",
      "Moviepy - video ready C:/Users/iai/Desktop/video_extraction/outputs/000/08/08.mp4\n",
      "000_09video open\n",
      "000_09 video finish\n",
      "Moviepy - Building video C:/Users/iai/Desktop/video_extraction/outputs/000/09/09.mp4.\n",
      "Moviepy - Writing video C:/Users/iai/Desktop/video_extraction/outputs/000/09/09.mp4\n",
      "\n"
     ]
    },
    {
     "name": "stderr",
     "output_type": "stream",
     "text": [
      "                                                                                                                       \r"
     ]
    },
    {
     "name": "stdout",
     "output_type": "stream",
     "text": [
      "Moviepy - Done !\n",
      "Moviepy - video ready C:/Users/iai/Desktop/video_extraction/outputs/000/09/09.mp4\n",
      "000_10video open\n",
      "000_10 video finish\n",
      "Moviepy - Building video C:/Users/iai/Desktop/video_extraction/outputs/000/10/10.mp4.\n",
      "Moviepy - Writing video C:/Users/iai/Desktop/video_extraction/outputs/000/10/10.mp4\n",
      "\n"
     ]
    },
    {
     "name": "stderr",
     "output_type": "stream",
     "text": [
      "                                                                                                                       \r"
     ]
    },
    {
     "name": "stdout",
     "output_type": "stream",
     "text": [
      "Moviepy - Done !\n",
      "Moviepy - video ready C:/Users/iai/Desktop/video_extraction/outputs/000/10/10.mp4\n",
      "000_11video open\n",
      "000_11 video finish\n",
      "Moviepy - Building video C:/Users/iai/Desktop/video_extraction/outputs/000/11/11.mp4.\n",
      "Moviepy - Writing video C:/Users/iai/Desktop/video_extraction/outputs/000/11/11.mp4\n",
      "\n"
     ]
    },
    {
     "name": "stderr",
     "output_type": "stream",
     "text": [
      "                                                                                                                       \r"
     ]
    },
    {
     "name": "stdout",
     "output_type": "stream",
     "text": [
      "Moviepy - Done !\n",
      "Moviepy - video ready C:/Users/iai/Desktop/video_extraction/outputs/000/11/11.mp4\n",
      "000_12video open\n",
      "000_12 video finish\n",
      "Moviepy - Building video C:/Users/iai/Desktop/video_extraction/outputs/000/12/12.mp4.\n",
      "Moviepy - Writing video C:/Users/iai/Desktop/video_extraction/outputs/000/12/12.mp4\n",
      "\n"
     ]
    },
    {
     "name": "stderr",
     "output_type": "stream",
     "text": [
      "                                                                                                                       \r"
     ]
    },
    {
     "name": "stdout",
     "output_type": "stream",
     "text": [
      "Moviepy - Done !\n",
      "Moviepy - video ready C:/Users/iai/Desktop/video_extraction/outputs/000/12/12.mp4\n",
      "000_13video open\n",
      "000_13 video finish\n",
      "Moviepy - Building video C:/Users/iai/Desktop/video_extraction/outputs/000/13/13.mp4.\n",
      "Moviepy - Writing video C:/Users/iai/Desktop/video_extraction/outputs/000/13/13.mp4\n",
      "\n"
     ]
    },
    {
     "name": "stderr",
     "output_type": "stream",
     "text": [
      "                                                                                                                       \r"
     ]
    },
    {
     "name": "stdout",
     "output_type": "stream",
     "text": [
      "Moviepy - Done !\n",
      "Moviepy - video ready C:/Users/iai/Desktop/video_extraction/outputs/000/13/13.mp4\n",
      "000_14video open\n",
      "000_14 video finish\n",
      "Moviepy - Building video C:/Users/iai/Desktop/video_extraction/outputs/000/14/14.mp4.\n",
      "Moviepy - Writing video C:/Users/iai/Desktop/video_extraction/outputs/000/14/14.mp4\n",
      "\n"
     ]
    },
    {
     "name": "stderr",
     "output_type": "stream",
     "text": [
      "                                                                                                                       \r"
     ]
    },
    {
     "name": "stdout",
     "output_type": "stream",
     "text": [
      "Moviepy - Done !\n",
      "Moviepy - video ready C:/Users/iai/Desktop/video_extraction/outputs/000/14/14.mp4\n",
      "000_15video open\n",
      "000_15 video finish\n",
      "Moviepy - Building video C:/Users/iai/Desktop/video_extraction/outputs/000/15/15.mp4.\n",
      "Moviepy - Writing video C:/Users/iai/Desktop/video_extraction/outputs/000/15/15.mp4\n",
      "\n"
     ]
    },
    {
     "name": "stderr",
     "output_type": "stream",
     "text": [
      "                                                                                                                       \r"
     ]
    },
    {
     "name": "stdout",
     "output_type": "stream",
     "text": [
      "Moviepy - Done !\n",
      "Moviepy - video ready C:/Users/iai/Desktop/video_extraction/outputs/000/15/15.mp4\n",
      "000_16video open\n",
      "000_16 video finish\n",
      "Moviepy - Building video C:/Users/iai/Desktop/video_extraction/outputs/000/16/16.mp4.\n",
      "Moviepy - Writing video C:/Users/iai/Desktop/video_extraction/outputs/000/16/16.mp4\n",
      "\n"
     ]
    },
    {
     "name": "stderr",
     "output_type": "stream",
     "text": [
      "                                                                                                                       \r"
     ]
    },
    {
     "name": "stdout",
     "output_type": "stream",
     "text": [
      "Moviepy - Done !\n",
      "Moviepy - video ready C:/Users/iai/Desktop/video_extraction/outputs/000/16/16.mp4\n",
      "000_17video open\n",
      "000_17 video finish\n",
      "Moviepy - Building video C:/Users/iai/Desktop/video_extraction/outputs/000/17/17.mp4.\n",
      "Moviepy - Writing video C:/Users/iai/Desktop/video_extraction/outputs/000/17/17.mp4\n",
      "\n"
     ]
    },
    {
     "name": "stderr",
     "output_type": "stream",
     "text": [
      "                                                                                                                       \r"
     ]
    },
    {
     "name": "stdout",
     "output_type": "stream",
     "text": [
      "Moviepy - Done !\n",
      "Moviepy - video ready C:/Users/iai/Desktop/video_extraction/outputs/000/17/17.mp4\n",
      "000_18video open\n",
      "000_18 video finish\n",
      "Moviepy - Building video C:/Users/iai/Desktop/video_extraction/outputs/000/18/18.mp4.\n",
      "Moviepy - Writing video C:/Users/iai/Desktop/video_extraction/outputs/000/18/18.mp4\n",
      "\n"
     ]
    },
    {
     "name": "stderr",
     "output_type": "stream",
     "text": [
      "                                                                                                                       \r"
     ]
    },
    {
     "name": "stdout",
     "output_type": "stream",
     "text": [
      "Moviepy - Done !\n",
      "Moviepy - video ready C:/Users/iai/Desktop/video_extraction/outputs/000/18/18.mp4\n",
      "000_19video open\n",
      "000_19 video finish\n",
      "Moviepy - Building video C:/Users/iai/Desktop/video_extraction/outputs/000/19/19.mp4.\n",
      "Moviepy - Writing video C:/Users/iai/Desktop/video_extraction/outputs/000/19/19.mp4\n",
      "\n"
     ]
    },
    {
     "name": "stderr",
     "output_type": "stream",
     "text": [
      "                                                                                                                       \r"
     ]
    },
    {
     "name": "stdout",
     "output_type": "stream",
     "text": [
      "Moviepy - Done !\n",
      "Moviepy - video ready C:/Users/iai/Desktop/video_extraction/outputs/000/19/19.mp4\n",
      "000_20video open\n",
      "000_20 video finish\n",
      "Moviepy - Building video C:/Users/iai/Desktop/video_extraction/outputs/000/20/20.mp4.\n",
      "Moviepy - Writing video C:/Users/iai/Desktop/video_extraction/outputs/000/20/20.mp4\n",
      "\n"
     ]
    },
    {
     "name": "stderr",
     "output_type": "stream",
     "text": [
      "                                                                                                                       \r"
     ]
    },
    {
     "name": "stdout",
     "output_type": "stream",
     "text": [
      "Moviepy - Done !\n",
      "Moviepy - video ready C:/Users/iai/Desktop/video_extraction/outputs/000/20/20.mp4\n",
      "000_21video open\n",
      "000_21 video finish\n",
      "Moviepy - Building video C:/Users/iai/Desktop/video_extraction/outputs/000/21/21.mp4.\n",
      "Moviepy - Writing video C:/Users/iai/Desktop/video_extraction/outputs/000/21/21.mp4\n",
      "\n"
     ]
    },
    {
     "name": "stderr",
     "output_type": "stream",
     "text": [
      "                                                                                                                       \r"
     ]
    },
    {
     "name": "stdout",
     "output_type": "stream",
     "text": [
      "Moviepy - Done !\n",
      "Moviepy - video ready C:/Users/iai/Desktop/video_extraction/outputs/000/21/21.mp4\n",
      "000_22video open\n",
      "000_22 video finish\n",
      "Moviepy - Building video C:/Users/iai/Desktop/video_extraction/outputs/000/22/22.mp4.\n",
      "Moviepy - Writing video C:/Users/iai/Desktop/video_extraction/outputs/000/22/22.mp4\n",
      "\n"
     ]
    },
    {
     "name": "stderr",
     "output_type": "stream",
     "text": [
      "                                                                                                                       \r"
     ]
    },
    {
     "name": "stdout",
     "output_type": "stream",
     "text": [
      "Moviepy - Done !\n",
      "Moviepy - video ready C:/Users/iai/Desktop/video_extraction/outputs/000/22/22.mp4\n",
      "000_23video open\n",
      "000_23 video finish\n",
      "Moviepy - Building video C:/Users/iai/Desktop/video_extraction/outputs/000/23/23.mp4.\n",
      "Moviepy - Writing video C:/Users/iai/Desktop/video_extraction/outputs/000/23/23.mp4\n",
      "\n"
     ]
    },
    {
     "name": "stderr",
     "output_type": "stream",
     "text": [
      "                                                                                                                       \r"
     ]
    },
    {
     "name": "stdout",
     "output_type": "stream",
     "text": [
      "Moviepy - Done !\n",
      "Moviepy - video ready C:/Users/iai/Desktop/video_extraction/outputs/000/23/23.mp4\n",
      "000_24video open\n",
      "000_24 video finish\n",
      "Moviepy - Building video C:/Users/iai/Desktop/video_extraction/outputs/000/24/24.mp4.\n",
      "Moviepy - Writing video C:/Users/iai/Desktop/video_extraction/outputs/000/24/24.mp4\n",
      "\n"
     ]
    },
    {
     "name": "stderr",
     "output_type": "stream",
     "text": [
      "                                                                                                                       \r"
     ]
    },
    {
     "name": "stdout",
     "output_type": "stream",
     "text": [
      "Moviepy - Done !\n",
      "Moviepy - video ready C:/Users/iai/Desktop/video_extraction/outputs/000/24/24.mp4\n",
      "000_25video open\n",
      "000_25 video finish\n",
      "Moviepy - Building video C:/Users/iai/Desktop/video_extraction/outputs/000/25/25.mp4.\n",
      "Moviepy - Writing video C:/Users/iai/Desktop/video_extraction/outputs/000/25/25.mp4\n",
      "\n"
     ]
    },
    {
     "name": "stderr",
     "output_type": "stream",
     "text": [
      "                                                                                                                       \r"
     ]
    },
    {
     "name": "stdout",
     "output_type": "stream",
     "text": [
      "Moviepy - Done !\n",
      "Moviepy - video ready C:/Users/iai/Desktop/video_extraction/outputs/000/25/25.mp4\n",
      "000_26video open\n",
      "000_26 video finish\n",
      "Moviepy - Building video C:/Users/iai/Desktop/video_extraction/outputs/000/26/26.mp4.\n",
      "Moviepy - Writing video C:/Users/iai/Desktop/video_extraction/outputs/000/26/26.mp4\n",
      "\n"
     ]
    },
    {
     "name": "stderr",
     "output_type": "stream",
     "text": [
      "                                                                                                                       \r"
     ]
    },
    {
     "name": "stdout",
     "output_type": "stream",
     "text": [
      "Moviepy - Done !\n",
      "Moviepy - video ready C:/Users/iai/Desktop/video_extraction/outputs/000/26/26.mp4\n",
      "000_27video open\n",
      "000_27 video finish\n",
      "Moviepy - Building video C:/Users/iai/Desktop/video_extraction/outputs/000/27/27.mp4.\n",
      "Moviepy - Writing video C:/Users/iai/Desktop/video_extraction/outputs/000/27/27.mp4\n",
      "\n"
     ]
    },
    {
     "name": "stderr",
     "output_type": "stream",
     "text": [
      "                                                                                                                       \r"
     ]
    },
    {
     "name": "stdout",
     "output_type": "stream",
     "text": [
      "Moviepy - Done !\n",
      "Moviepy - video ready C:/Users/iai/Desktop/video_extraction/outputs/000/27/27.mp4\n",
      "000_28video open\n",
      "000_28 video finish\n",
      "Moviepy - Building video C:/Users/iai/Desktop/video_extraction/outputs/000/28/28.mp4.\n",
      "Moviepy - Writing video C:/Users/iai/Desktop/video_extraction/outputs/000/28/28.mp4\n",
      "\n"
     ]
    },
    {
     "name": "stderr",
     "output_type": "stream",
     "text": [
      "                                                                                                                       \r"
     ]
    },
    {
     "name": "stdout",
     "output_type": "stream",
     "text": [
      "Moviepy - Done !\n",
      "Moviepy - video ready C:/Users/iai/Desktop/video_extraction/outputs/000/28/28.mp4\n",
      "000_29video open\n",
      "000_29 video finish\n",
      "Moviepy - Building video C:/Users/iai/Desktop/video_extraction/outputs/000/29/29.mp4.\n",
      "Moviepy - Writing video C:/Users/iai/Desktop/video_extraction/outputs/000/29/29.mp4\n",
      "\n"
     ]
    },
    {
     "name": "stderr",
     "output_type": "stream",
     "text": [
      "                                                                                                                       \r"
     ]
    },
    {
     "name": "stdout",
     "output_type": "stream",
     "text": [
      "Moviepy - Done !\n",
      "Moviepy - video ready C:/Users/iai/Desktop/video_extraction/outputs/000/29/29.mp4\n",
      "000_30video open\n",
      "000_30 video finish\n",
      "Moviepy - Building video C:/Users/iai/Desktop/video_extraction/outputs/000/30/30.mp4.\n",
      "Moviepy - Writing video C:/Users/iai/Desktop/video_extraction/outputs/000/30/30.mp4\n",
      "\n"
     ]
    },
    {
     "name": "stderr",
     "output_type": "stream",
     "text": [
      "                                                                                                                       \r"
     ]
    },
    {
     "name": "stdout",
     "output_type": "stream",
     "text": [
      "Moviepy - Done !\n",
      "Moviepy - video ready C:/Users/iai/Desktop/video_extraction/outputs/000/30/30.mp4\n",
      "000_31video open\n",
      "000_31 video finish\n",
      "Moviepy - Building video C:/Users/iai/Desktop/video_extraction/outputs/000/31/31.mp4.\n",
      "Moviepy - Writing video C:/Users/iai/Desktop/video_extraction/outputs/000/31/31.mp4\n",
      "\n"
     ]
    },
    {
     "name": "stderr",
     "output_type": "stream",
     "text": [
      "                                                                                                                       \r"
     ]
    },
    {
     "name": "stdout",
     "output_type": "stream",
     "text": [
      "Moviepy - Done !\n",
      "Moviepy - video ready C:/Users/iai/Desktop/video_extraction/outputs/000/31/31.mp4\n",
      "000_32video open\n",
      "000_32 video finish\n",
      "Moviepy - Building video C:/Users/iai/Desktop/video_extraction/outputs/000/32/32.mp4.\n",
      "Moviepy - Writing video C:/Users/iai/Desktop/video_extraction/outputs/000/32/32.mp4\n",
      "\n"
     ]
    },
    {
     "name": "stderr",
     "output_type": "stream",
     "text": [
      "                                                                                                                       \r"
     ]
    },
    {
     "name": "stdout",
     "output_type": "stream",
     "text": [
      "Moviepy - Done !\n",
      "Moviepy - video ready C:/Users/iai/Desktop/video_extraction/outputs/000/32/32.mp4\n",
      "000_33video open\n",
      "000_33 video finish\n",
      "Moviepy - Building video C:/Users/iai/Desktop/video_extraction/outputs/000/33/33.mp4.\n",
      "Moviepy - Writing video C:/Users/iai/Desktop/video_extraction/outputs/000/33/33.mp4\n",
      "\n"
     ]
    },
    {
     "name": "stderr",
     "output_type": "stream",
     "text": [
      "                                                                                                                       \r"
     ]
    },
    {
     "name": "stdout",
     "output_type": "stream",
     "text": [
      "Moviepy - Done !\n",
      "Moviepy - video ready C:/Users/iai/Desktop/video_extraction/outputs/000/33/33.mp4\n",
      "000_34video open\n",
      "000_34 video finish\n",
      "Moviepy - Building video C:/Users/iai/Desktop/video_extraction/outputs/000/34/34.mp4.\n",
      "Moviepy - Writing video C:/Users/iai/Desktop/video_extraction/outputs/000/34/34.mp4\n",
      "\n"
     ]
    },
    {
     "name": "stderr",
     "output_type": "stream",
     "text": [
      "                                                                                                                       \r"
     ]
    },
    {
     "name": "stdout",
     "output_type": "stream",
     "text": [
      "Moviepy - Done !\n",
      "Moviepy - video ready C:/Users/iai/Desktop/video_extraction/outputs/000/34/34.mp4\n",
      "000_35video open\n",
      "000_35 video finish\n",
      "Moviepy - Building video C:/Users/iai/Desktop/video_extraction/outputs/000/35/35.mp4.\n",
      "Moviepy - Writing video C:/Users/iai/Desktop/video_extraction/outputs/000/35/35.mp4\n",
      "\n"
     ]
    },
    {
     "name": "stderr",
     "output_type": "stream",
     "text": [
      "                                                                                                                       \r"
     ]
    },
    {
     "name": "stdout",
     "output_type": "stream",
     "text": [
      "Moviepy - Done !\n",
      "Moviepy - video ready C:/Users/iai/Desktop/video_extraction/outputs/000/35/35.mp4\n",
      "000_36video open\n",
      "000_36 video finish\n",
      "Moviepy - Building video C:/Users/iai/Desktop/video_extraction/outputs/000/36/36.mp4.\n",
      "Moviepy - Writing video C:/Users/iai/Desktop/video_extraction/outputs/000/36/36.mp4\n",
      "\n"
     ]
    },
    {
     "name": "stderr",
     "output_type": "stream",
     "text": [
      "                                                                                                                       \r"
     ]
    },
    {
     "name": "stdout",
     "output_type": "stream",
     "text": [
      "Moviepy - Done !\n",
      "Moviepy - video ready C:/Users/iai/Desktop/video_extraction/outputs/000/36/36.mp4\n",
      "000_37video open\n",
      "000_37 video finish\n",
      "Moviepy - Building video C:/Users/iai/Desktop/video_extraction/outputs/000/37/37.mp4.\n",
      "Moviepy - Writing video C:/Users/iai/Desktop/video_extraction/outputs/000/37/37.mp4\n",
      "\n"
     ]
    },
    {
     "name": "stderr",
     "output_type": "stream",
     "text": [
      "                                                                                                                       \r"
     ]
    },
    {
     "name": "stdout",
     "output_type": "stream",
     "text": [
      "Moviepy - Done !\n",
      "Moviepy - video ready C:/Users/iai/Desktop/video_extraction/outputs/000/37/37.mp4\n",
      "001_45video open\n",
      "001_45 video finish\n",
      "Moviepy - Building video C:/Users/iai/Desktop/video_extraction/outputs/001/45/45.mp4.\n",
      "Moviepy - Writing video C:/Users/iai/Desktop/video_extraction/outputs/001/45/45.mp4\n",
      "\n"
     ]
    },
    {
     "name": "stderr",
     "output_type": "stream",
     "text": [
      "                                                                                                                       \r"
     ]
    },
    {
     "name": "stdout",
     "output_type": "stream",
     "text": [
      "Moviepy - Done !\n",
      "Moviepy - video ready C:/Users/iai/Desktop/video_extraction/outputs/001/45/45.mp4\n",
      "001_46video open\n",
      "001_46 video finish\n",
      "Moviepy - Building video C:/Users/iai/Desktop/video_extraction/outputs/001/46/46.mp4.\n",
      "Moviepy - Writing video C:/Users/iai/Desktop/video_extraction/outputs/001/46/46.mp4\n",
      "\n"
     ]
    },
    {
     "name": "stderr",
     "output_type": "stream",
     "text": [
      "                                                                                                                       \r"
     ]
    },
    {
     "name": "stdout",
     "output_type": "stream",
     "text": [
      "Moviepy - Done !\n",
      "Moviepy - video ready C:/Users/iai/Desktop/video_extraction/outputs/001/46/46.mp4\n",
      "001_47video open\n",
      "001_47 video finish\n",
      "Moviepy - Building video C:/Users/iai/Desktop/video_extraction/outputs/001/47/47.mp4.\n",
      "Moviepy - Writing video C:/Users/iai/Desktop/video_extraction/outputs/001/47/47.mp4\n",
      "\n"
     ]
    },
    {
     "name": "stderr",
     "output_type": "stream",
     "text": [
      "                                                                                                                       \r"
     ]
    },
    {
     "name": "stdout",
     "output_type": "stream",
     "text": [
      "Moviepy - Done !\n",
      "Moviepy - video ready C:/Users/iai/Desktop/video_extraction/outputs/001/47/47.mp4\n",
      "001_48video open\n",
      "001_48 video finish\n",
      "Moviepy - Building video C:/Users/iai/Desktop/video_extraction/outputs/001/48/48.mp4.\n",
      "Moviepy - Writing video C:/Users/iai/Desktop/video_extraction/outputs/001/48/48.mp4\n",
      "\n"
     ]
    },
    {
     "name": "stderr",
     "output_type": "stream",
     "text": [
      "                                                                                                                       \r"
     ]
    },
    {
     "name": "stdout",
     "output_type": "stream",
     "text": [
      "Moviepy - Done !\n",
      "Moviepy - video ready C:/Users/iai/Desktop/video_extraction/outputs/001/48/48.mp4\n",
      "001_49video open\n",
      "001_49 video finish\n",
      "Moviepy - Building video C:/Users/iai/Desktop/video_extraction/outputs/001/49/49.mp4.\n",
      "Moviepy - Writing video C:/Users/iai/Desktop/video_extraction/outputs/001/49/49.mp4\n",
      "\n"
     ]
    },
    {
     "name": "stderr",
     "output_type": "stream",
     "text": [
      "                                                                                                                       \r"
     ]
    },
    {
     "name": "stdout",
     "output_type": "stream",
     "text": [
      "Moviepy - Done !\n",
      "Moviepy - video ready C:/Users/iai/Desktop/video_extraction/outputs/001/49/49.mp4\n",
      "001_50video open\n",
      "001_50 video finish\n",
      "Moviepy - Building video C:/Users/iai/Desktop/video_extraction/outputs/001/50/50.mp4.\n",
      "Moviepy - Writing video C:/Users/iai/Desktop/video_extraction/outputs/001/50/50.mp4\n",
      "\n"
     ]
    },
    {
     "name": "stderr",
     "output_type": "stream",
     "text": [
      "                                                                                                                       \r"
     ]
    },
    {
     "name": "stdout",
     "output_type": "stream",
     "text": [
      "Moviepy - Done !\n",
      "Moviepy - video ready C:/Users/iai/Desktop/video_extraction/outputs/001/50/50.mp4\n",
      "001_51video open\n",
      "001_51 video finish\n",
      "Moviepy - Building video C:/Users/iai/Desktop/video_extraction/outputs/001/51/51.mp4.\n",
      "Moviepy - Writing video C:/Users/iai/Desktop/video_extraction/outputs/001/51/51.mp4\n",
      "\n"
     ]
    },
    {
     "name": "stderr",
     "output_type": "stream",
     "text": [
      "                                                                                                                       \r"
     ]
    },
    {
     "name": "stdout",
     "output_type": "stream",
     "text": [
      "Moviepy - Done !\n",
      "Moviepy - video ready C:/Users/iai/Desktop/video_extraction/outputs/001/51/51.mp4\n",
      "001_52video open\n",
      "001_52 video finish\n",
      "Moviepy - Building video C:/Users/iai/Desktop/video_extraction/outputs/001/52/52.mp4.\n",
      "Moviepy - Writing video C:/Users/iai/Desktop/video_extraction/outputs/001/52/52.mp4\n",
      "\n"
     ]
    },
    {
     "name": "stderr",
     "output_type": "stream",
     "text": [
      "                                                                                                                       \r"
     ]
    },
    {
     "name": "stdout",
     "output_type": "stream",
     "text": [
      "Moviepy - Done !\n",
      "Moviepy - video ready C:/Users/iai/Desktop/video_extraction/outputs/001/52/52.mp4\n",
      "001_53video open\n",
      "001_53 video finish\n",
      "Moviepy - Building video C:/Users/iai/Desktop/video_extraction/outputs/001/53/53.mp4.\n",
      "Moviepy - Writing video C:/Users/iai/Desktop/video_extraction/outputs/001/53/53.mp4\n",
      "\n"
     ]
    },
    {
     "name": "stderr",
     "output_type": "stream",
     "text": [
      "                                                                                                                       \r"
     ]
    },
    {
     "name": "stdout",
     "output_type": "stream",
     "text": [
      "Moviepy - Done !\n",
      "Moviepy - video ready C:/Users/iai/Desktop/video_extraction/outputs/001/53/53.mp4\n",
      "001_55video open\n",
      "001_55 video finish\n",
      "Moviepy - Building video C:/Users/iai/Desktop/video_extraction/outputs/001/55/55.mp4.\n",
      "Moviepy - Writing video C:/Users/iai/Desktop/video_extraction/outputs/001/55/55.mp4\n",
      "\n"
     ]
    },
    {
     "name": "stderr",
     "output_type": "stream",
     "text": [
      "                                                                                                                       \r"
     ]
    },
    {
     "name": "stdout",
     "output_type": "stream",
     "text": [
      "Moviepy - Done !\n",
      "Moviepy - video ready C:/Users/iai/Desktop/video_extraction/outputs/001/55/55.mp4\n",
      "001_56video open\n",
      "001_56 video finish\n",
      "Moviepy - Building video C:/Users/iai/Desktop/video_extraction/outputs/001/56/56.mp4.\n",
      "Moviepy - Writing video C:/Users/iai/Desktop/video_extraction/outputs/001/56/56.mp4\n",
      "\n"
     ]
    },
    {
     "name": "stderr",
     "output_type": "stream",
     "text": [
      "                                                                                                                       \r"
     ]
    },
    {
     "name": "stdout",
     "output_type": "stream",
     "text": [
      "Moviepy - Done !\n",
      "Moviepy - video ready C:/Users/iai/Desktop/video_extraction/outputs/001/56/56.mp4\n",
      "001_57video open\n",
      "001_57 video finish\n",
      "Moviepy - Building video C:/Users/iai/Desktop/video_extraction/outputs/001/57/57.mp4.\n",
      "Moviepy - Writing video C:/Users/iai/Desktop/video_extraction/outputs/001/57/57.mp4\n",
      "\n"
     ]
    },
    {
     "name": "stderr",
     "output_type": "stream",
     "text": [
      "                                                                                                                       \r"
     ]
    },
    {
     "name": "stdout",
     "output_type": "stream",
     "text": [
      "Moviepy - Done !\n",
      "Moviepy - video ready C:/Users/iai/Desktop/video_extraction/outputs/001/57/57.mp4\n",
      "001_58video open\n",
      "001_58 video finish\n",
      "Moviepy - Building video C:/Users/iai/Desktop/video_extraction/outputs/001/58/58.mp4.\n",
      "Moviepy - Writing video C:/Users/iai/Desktop/video_extraction/outputs/001/58/58.mp4\n",
      "\n"
     ]
    },
    {
     "name": "stderr",
     "output_type": "stream",
     "text": [
      "                                                                                                                       \r"
     ]
    },
    {
     "name": "stdout",
     "output_type": "stream",
     "text": [
      "Moviepy - Done !\n",
      "Moviepy - video ready C:/Users/iai/Desktop/video_extraction/outputs/001/58/58.mp4\n",
      "001_59video open\n",
      "001_59 video finish\n",
      "Moviepy - Building video C:/Users/iai/Desktop/video_extraction/outputs/001/59/59.mp4.\n",
      "Moviepy - Writing video C:/Users/iai/Desktop/video_extraction/outputs/001/59/59.mp4\n",
      "\n"
     ]
    },
    {
     "name": "stderr",
     "output_type": "stream",
     "text": [
      "                                                                                                                       \r"
     ]
    },
    {
     "name": "stdout",
     "output_type": "stream",
     "text": [
      "Moviepy - Done !\n",
      "Moviepy - video ready C:/Users/iai/Desktop/video_extraction/outputs/001/59/59.mp4\n",
      "001_60video open\n",
      "001_60 video finish\n",
      "Moviepy - Building video C:/Users/iai/Desktop/video_extraction/outputs/001/60/60.mp4.\n",
      "Moviepy - Writing video C:/Users/iai/Desktop/video_extraction/outputs/001/60/60.mp4\n",
      "\n"
     ]
    },
    {
     "name": "stderr",
     "output_type": "stream",
     "text": [
      "                                                                                                                       \r"
     ]
    },
    {
     "name": "stdout",
     "output_type": "stream",
     "text": [
      "Moviepy - Done !\n",
      "Moviepy - video ready C:/Users/iai/Desktop/video_extraction/outputs/001/60/60.mp4\n",
      "001_61video open\n",
      "001_61 video finish\n",
      "Moviepy - Building video C:/Users/iai/Desktop/video_extraction/outputs/001/61/61.mp4.\n",
      "Moviepy - Writing video C:/Users/iai/Desktop/video_extraction/outputs/001/61/61.mp4\n",
      "\n"
     ]
    },
    {
     "name": "stderr",
     "output_type": "stream",
     "text": [
      "                                                                                                                       \r"
     ]
    },
    {
     "name": "stdout",
     "output_type": "stream",
     "text": [
      "Moviepy - Done !\n",
      "Moviepy - video ready C:/Users/iai/Desktop/video_extraction/outputs/001/61/61.mp4\n",
      "001_62video open\n",
      "001_62 video finish\n",
      "Moviepy - Building video C:/Users/iai/Desktop/video_extraction/outputs/001/62/62.mp4.\n",
      "Moviepy - Writing video C:/Users/iai/Desktop/video_extraction/outputs/001/62/62.mp4\n",
      "\n"
     ]
    },
    {
     "name": "stderr",
     "output_type": "stream",
     "text": [
      "                                                                                                                       \r"
     ]
    },
    {
     "name": "stdout",
     "output_type": "stream",
     "text": [
      "Moviepy - Done !\n",
      "Moviepy - video ready C:/Users/iai/Desktop/video_extraction/outputs/001/62/62.mp4\n",
      "001_63video open\n",
      "001_63 video finish\n",
      "Moviepy - Building video C:/Users/iai/Desktop/video_extraction/outputs/001/63/63.mp4.\n",
      "Moviepy - Writing video C:/Users/iai/Desktop/video_extraction/outputs/001/63/63.mp4\n",
      "\n"
     ]
    },
    {
     "name": "stderr",
     "output_type": "stream",
     "text": [
      "                                                                                                                       \r"
     ]
    },
    {
     "name": "stdout",
     "output_type": "stream",
     "text": [
      "Moviepy - Done !\n",
      "Moviepy - video ready C:/Users/iai/Desktop/video_extraction/outputs/001/63/63.mp4\n",
      "001_64video open\n",
      "001_64 video finish\n",
      "Moviepy - Building video C:/Users/iai/Desktop/video_extraction/outputs/001/64/64.mp4.\n",
      "Moviepy - Writing video C:/Users/iai/Desktop/video_extraction/outputs/001/64/64.mp4\n",
      "\n"
     ]
    },
    {
     "name": "stderr",
     "output_type": "stream",
     "text": [
      "                                                                                                                       \r"
     ]
    },
    {
     "name": "stdout",
     "output_type": "stream",
     "text": [
      "Moviepy - Done !\n",
      "Moviepy - video ready C:/Users/iai/Desktop/video_extraction/outputs/001/64/64.mp4\n",
      "001_65video open\n",
      "001_65 video finish\n",
      "Moviepy - Building video C:/Users/iai/Desktop/video_extraction/outputs/001/65/65.mp4.\n",
      "Moviepy - Writing video C:/Users/iai/Desktop/video_extraction/outputs/001/65/65.mp4\n",
      "\n"
     ]
    },
    {
     "name": "stderr",
     "output_type": "stream",
     "text": [
      "                                                                                                                       \r"
     ]
    },
    {
     "name": "stdout",
     "output_type": "stream",
     "text": [
      "Moviepy - Done !\n",
      "Moviepy - video ready C:/Users/iai/Desktop/video_extraction/outputs/001/65/65.mp4\n",
      "001_66video open\n",
      "001_66 video finish\n",
      "Moviepy - Building video C:/Users/iai/Desktop/video_extraction/outputs/001/66/66.mp4.\n",
      "Moviepy - Writing video C:/Users/iai/Desktop/video_extraction/outputs/001/66/66.mp4\n",
      "\n"
     ]
    },
    {
     "name": "stderr",
     "output_type": "stream",
     "text": [
      "                                                                                                                       \r"
     ]
    },
    {
     "name": "stdout",
     "output_type": "stream",
     "text": [
      "Moviepy - Done !\n",
      "Moviepy - video ready C:/Users/iai/Desktop/video_extraction/outputs/001/66/66.mp4\n",
      "001_67video open\n",
      "001_67 video finish\n",
      "Moviepy - Building video C:/Users/iai/Desktop/video_extraction/outputs/001/67/67.mp4.\n",
      "Moviepy - Writing video C:/Users/iai/Desktop/video_extraction/outputs/001/67/67.mp4\n",
      "\n"
     ]
    },
    {
     "name": "stderr",
     "output_type": "stream",
     "text": [
      "                                                                                                                       \r"
     ]
    },
    {
     "name": "stdout",
     "output_type": "stream",
     "text": [
      "Moviepy - Done !\n",
      "Moviepy - video ready C:/Users/iai/Desktop/video_extraction/outputs/001/67/67.mp4\n",
      "001_68video open\n",
      "001_68 video finish\n",
      "Moviepy - Building video C:/Users/iai/Desktop/video_extraction/outputs/001/68/68.mp4.\n",
      "Moviepy - Writing video C:/Users/iai/Desktop/video_extraction/outputs/001/68/68.mp4\n",
      "\n"
     ]
    },
    {
     "name": "stderr",
     "output_type": "stream",
     "text": [
      "                                                                                                                       \r"
     ]
    },
    {
     "name": "stdout",
     "output_type": "stream",
     "text": [
      "Moviepy - Done !\n",
      "Moviepy - video ready C:/Users/iai/Desktop/video_extraction/outputs/001/68/68.mp4\n",
      "001_69video open\n",
      "001_69 video finish\n",
      "Moviepy - Building video C:/Users/iai/Desktop/video_extraction/outputs/001/69/69.mp4.\n",
      "Moviepy - Writing video C:/Users/iai/Desktop/video_extraction/outputs/001/69/69.mp4\n",
      "\n"
     ]
    },
    {
     "name": "stderr",
     "output_type": "stream",
     "text": [
      "                                                                                                                       \r"
     ]
    },
    {
     "name": "stdout",
     "output_type": "stream",
     "text": [
      "Moviepy - Done !\n",
      "Moviepy - video ready C:/Users/iai/Desktop/video_extraction/outputs/001/69/69.mp4\n",
      "001_70video open\n",
      "001_70 video finish\n",
      "Moviepy - Building video C:/Users/iai/Desktop/video_extraction/outputs/001/70/70.mp4.\n",
      "Moviepy - Writing video C:/Users/iai/Desktop/video_extraction/outputs/001/70/70.mp4\n",
      "\n"
     ]
    },
    {
     "name": "stderr",
     "output_type": "stream",
     "text": [
      "                                                                                                                       \r"
     ]
    },
    {
     "name": "stdout",
     "output_type": "stream",
     "text": [
      "Moviepy - Done !\n",
      "Moviepy - video ready C:/Users/iai/Desktop/video_extraction/outputs/001/70/70.mp4\n",
      "001_71video open\n",
      "001_71 video finish\n",
      "Moviepy - Building video C:/Users/iai/Desktop/video_extraction/outputs/001/71/71.mp4.\n",
      "Moviepy - Writing video C:/Users/iai/Desktop/video_extraction/outputs/001/71/71.mp4\n",
      "\n"
     ]
    },
    {
     "name": "stderr",
     "output_type": "stream",
     "text": [
      "                                                                                                                       \r"
     ]
    },
    {
     "name": "stdout",
     "output_type": "stream",
     "text": [
      "Moviepy - Done !\n",
      "Moviepy - video ready C:/Users/iai/Desktop/video_extraction/outputs/001/71/71.mp4\n",
      "001_72video open\n",
      "001_72 video finish\n",
      "Moviepy - Building video C:/Users/iai/Desktop/video_extraction/outputs/001/72/72.mp4.\n",
      "Moviepy - Writing video C:/Users/iai/Desktop/video_extraction/outputs/001/72/72.mp4\n",
      "\n"
     ]
    },
    {
     "name": "stderr",
     "output_type": "stream",
     "text": [
      "                                                                                                                       \r"
     ]
    },
    {
     "name": "stdout",
     "output_type": "stream",
     "text": [
      "Moviepy - Done !\n",
      "Moviepy - video ready C:/Users/iai/Desktop/video_extraction/outputs/001/72/72.mp4\n",
      "001_73video open\n",
      "001_73 video finish\n",
      "Moviepy - Building video C:/Users/iai/Desktop/video_extraction/outputs/001/73/73.mp4.\n",
      "Moviepy - Writing video C:/Users/iai/Desktop/video_extraction/outputs/001/73/73.mp4\n",
      "\n"
     ]
    },
    {
     "name": "stderr",
     "output_type": "stream",
     "text": [
      "                                                                                                                       \r"
     ]
    },
    {
     "name": "stdout",
     "output_type": "stream",
     "text": [
      "Moviepy - Done !\n",
      "Moviepy - video ready C:/Users/iai/Desktop/video_extraction/outputs/001/73/73.mp4\n",
      "001_74video open\n",
      "001_74 video finish\n",
      "Moviepy - Building video C:/Users/iai/Desktop/video_extraction/outputs/001/74/74.mp4.\n",
      "Moviepy - Writing video C:/Users/iai/Desktop/video_extraction/outputs/001/74/74.mp4\n",
      "\n"
     ]
    },
    {
     "name": "stderr",
     "output_type": "stream",
     "text": [
      "                                                                                                                       \r"
     ]
    },
    {
     "name": "stdout",
     "output_type": "stream",
     "text": [
      "Moviepy - Done !\n",
      "Moviepy - video ready C:/Users/iai/Desktop/video_extraction/outputs/001/74/74.mp4\n",
      "001_75video open\n",
      "001_75 video finish\n",
      "Moviepy - Building video C:/Users/iai/Desktop/video_extraction/outputs/001/75/75.mp4.\n",
      "Moviepy - Writing video C:/Users/iai/Desktop/video_extraction/outputs/001/75/75.mp4\n",
      "\n"
     ]
    },
    {
     "name": "stderr",
     "output_type": "stream",
     "text": [
      "                                                                                                                       \r"
     ]
    },
    {
     "name": "stdout",
     "output_type": "stream",
     "text": [
      "Moviepy - Done !\n",
      "Moviepy - video ready C:/Users/iai/Desktop/video_extraction/outputs/001/75/75.mp4\n",
      "001_76video open\n",
      "001_76 video finish\n",
      "Moviepy - Building video C:/Users/iai/Desktop/video_extraction/outputs/001/76/76.mp4.\n",
      "Moviepy - Writing video C:/Users/iai/Desktop/video_extraction/outputs/001/76/76.mp4\n",
      "\n"
     ]
    },
    {
     "name": "stderr",
     "output_type": "stream",
     "text": [
      "                                                                                                                       \r"
     ]
    },
    {
     "name": "stdout",
     "output_type": "stream",
     "text": [
      "Moviepy - Done !\n",
      "Moviepy - video ready C:/Users/iai/Desktop/video_extraction/outputs/001/76/76.mp4\n",
      "001_77video open\n",
      "001_77 video finish\n",
      "Moviepy - Building video C:/Users/iai/Desktop/video_extraction/outputs/001/77/77.mp4.\n",
      "Moviepy - Writing video C:/Users/iai/Desktop/video_extraction/outputs/001/77/77.mp4\n",
      "\n"
     ]
    },
    {
     "name": "stderr",
     "output_type": "stream",
     "text": [
      "                                                                                                                       \r"
     ]
    },
    {
     "name": "stdout",
     "output_type": "stream",
     "text": [
      "Moviepy - Done !\n",
      "Moviepy - video ready C:/Users/iai/Desktop/video_extraction/outputs/001/77/77.mp4\n",
      "001_78video open\n",
      "001_78 video finish\n",
      "Moviepy - Building video C:/Users/iai/Desktop/video_extraction/outputs/001/78/78.mp4.\n",
      "Moviepy - Writing video C:/Users/iai/Desktop/video_extraction/outputs/001/78/78.mp4\n",
      "\n"
     ]
    },
    {
     "name": "stderr",
     "output_type": "stream",
     "text": [
      "                                                                                                                       \r"
     ]
    },
    {
     "name": "stdout",
     "output_type": "stream",
     "text": [
      "Moviepy - Done !\n",
      "Moviepy - video ready C:/Users/iai/Desktop/video_extraction/outputs/001/78/78.mp4\n",
      "001_79video open\n",
      "001_79 video finish\n",
      "Moviepy - Building video C:/Users/iai/Desktop/video_extraction/outputs/001/79/79.mp4.\n",
      "Moviepy - Writing video C:/Users/iai/Desktop/video_extraction/outputs/001/79/79.mp4\n",
      "\n"
     ]
    },
    {
     "name": "stderr",
     "output_type": "stream",
     "text": [
      "                                                                                                                       \r"
     ]
    },
    {
     "name": "stdout",
     "output_type": "stream",
     "text": [
      "Moviepy - Done !\n",
      "Moviepy - video ready C:/Users/iai/Desktop/video_extraction/outputs/001/79/79.mp4\n",
      "001_80video open\n",
      "001_80 video finish\n",
      "Moviepy - Building video C:/Users/iai/Desktop/video_extraction/outputs/001/80/80.mp4.\n",
      "Moviepy - Writing video C:/Users/iai/Desktop/video_extraction/outputs/001/80/80.mp4\n",
      "\n"
     ]
    },
    {
     "name": "stderr",
     "output_type": "stream",
     "text": [
      "                                                                                                                       \r"
     ]
    },
    {
     "name": "stdout",
     "output_type": "stream",
     "text": [
      "Moviepy - Done !\n",
      "Moviepy - video ready C:/Users/iai/Desktop/video_extraction/outputs/001/80/80.mp4\n",
      "001_81video open\n",
      "001_81 video finish\n",
      "Moviepy - Building video C:/Users/iai/Desktop/video_extraction/outputs/001/81/81.mp4.\n",
      "Moviepy - Writing video C:/Users/iai/Desktop/video_extraction/outputs/001/81/81.mp4\n",
      "\n"
     ]
    },
    {
     "name": "stderr",
     "output_type": "stream",
     "text": [
      "                                                                                                                       \r"
     ]
    },
    {
     "name": "stdout",
     "output_type": "stream",
     "text": [
      "Moviepy - Done !\n",
      "Moviepy - video ready C:/Users/iai/Desktop/video_extraction/outputs/001/81/81.mp4\n",
      "001_82video open\n",
      "001_82 video finish\n",
      "Moviepy - Building video C:/Users/iai/Desktop/video_extraction/outputs/001/82/82.mp4.\n",
      "Moviepy - Writing video C:/Users/iai/Desktop/video_extraction/outputs/001/82/82.mp4\n",
      "\n"
     ]
    },
    {
     "name": "stderr",
     "output_type": "stream",
     "text": [
      "                                                                                                                       \r"
     ]
    },
    {
     "name": "stdout",
     "output_type": "stream",
     "text": [
      "Moviepy - Done !\n",
      "Moviepy - video ready C:/Users/iai/Desktop/video_extraction/outputs/001/82/82.mp4\n",
      "001_83video open\n",
      "001_83 video finish\n",
      "Moviepy - Building video C:/Users/iai/Desktop/video_extraction/outputs/001/83/83.mp4.\n",
      "Moviepy - Writing video C:/Users/iai/Desktop/video_extraction/outputs/001/83/83.mp4\n",
      "\n"
     ]
    },
    {
     "name": "stderr",
     "output_type": "stream",
     "text": [
      "                                                                                                                       \r"
     ]
    },
    {
     "name": "stdout",
     "output_type": "stream",
     "text": [
      "Moviepy - Done !\n",
      "Moviepy - video ready C:/Users/iai/Desktop/video_extraction/outputs/001/83/83.mp4\n"
     ]
    }
   ],
   "source": [
    "\n",
    "PLAYLIST_FOLDER = \"C:/Users/iai/Desktop/video_extraction/outputs/extra\"\n",
    "\n",
    "for video_name in os.listdir(PLAYLIST_FOLDER):\n",
    "    #video_name은 017,002 등 비디오 개수 기준으로 \n",
    "    video = PLAYLIST_FOLDER +\"/\"+ video_name  \n",
    "    \n",
    "    for action in os.listdir(video):\n",
    "    # 최종 결과 저장 폴더\n",
    "        try:\n",
    "            if not os.path.exists('C:/Users/iai/Desktop/video_extraction/outputs/'+video_name + \"/\" + action):\n",
    "                os.makedirs('C:/Users/iai/Desktop/video_extraction/outputs/'+video_name + \"/\" + action)\n",
    "\n",
    "        except OSError:\n",
    "            print ('Error: Creating directory. ' +  'C:/Users/iai/Desktop/video_extraction/outputs/'+video_name + \"/\" + action)\n",
    "            \n",
    "    #resize된 이미지저장 장소\n",
    "        try:\n",
    "            if not os.path.exists('C:/Users/iai/Desktop/video_extraction/video_frame'):\n",
    "                os.makedirs('C:/Users/iai/Desktop/video_extraction/video_frame')\n",
    "\n",
    "        except OSError:\n",
    "            print ('Error: Creating directory. ' +  'C:/Users/iai/Desktop/video_extraction/video_frame')\n",
    "        \n",
    "        \n",
    "        video_path = video + \"/\" + action + \"/\" + action + \".mp4\"\n",
    "        info_path = video + \"/\" + action  + \"/info.json\"\n",
    "        \n",
    "        #info 이동하기\n",
    "        shutil.move(info_path, 'C:/Users/iai/Desktop/video_extraction/outputs/'+video_name + \"/\" + action + \"/info.json\" )\n",
    "        \n",
    "    \n",
    "        #이미 저장된 동영상\n",
    "        cap = cv2.VideoCapture(video_path)\n",
    "        fps = cap.get(cv2.CAP_PROP_FPS)\n",
    "\n",
    "        if (cap.isOpened()):\n",
    "            print(video_name + \"_\"+ action+\"video open\")\n",
    "            \n",
    "        #단순 한 영상의 프레임을 위한 count\n",
    "        count = 0\n",
    "        save_img_path = []\n",
    "        \n",
    "        #한 영상에 대해 프레임 반복\n",
    "        while (cap.isOpened()):\n",
    "            ret, frame = cap.read()\n",
    "            #이 while문 안에서는 한프레임에 해당\n",
    "\n",
    "            #만약 frame에 아무것도 없으면\n",
    "            if (np.shape(frame) == ()):\n",
    "                print(video_name + \"_\"+ action+\" video finish\")\n",
    "                break;\n",
    "\n",
    "            #보간법\n",
    "            resize_image = cv2.resize(frame, dsize=(1224, 612), interpolation=cv2.INTER_AREA)\n",
    "            img_path = \"C:/Users/iai/Desktop/video_extraction/video_frame/{:04d}.png\".format(count)\n",
    "            cv2.imwrite(img_path, resize_image)\n",
    "            save_img_path.append(img_path)\n",
    "\n",
    "            count += 1\n",
    "\n",
    "\n",
    "        #만약 동영상 끝났으면 -->  위에서 franme 없으면 break   \n",
    "        cap.release()\n",
    "        \n",
    "        #새로운 사이즈 영상 저장\n",
    "        result_video_name = 'C:/Users/iai/Desktop/video_extraction/outputs/'+video_name + \"/\" + action + \"/\" + action + \".mp4\"\n",
    "\n",
    "\n",
    "        #save_img_path를 가지고 동영상 만들기\n",
    "        clip = ImageSequenceClip(save_img_path, fps=int(fps))\n",
    "        clip.write_videofile(result_video_name) \n",
    "        \n",
    "        save_img_path.clear()\n",
    "        \n",
    "        #video_frame 없애기\n",
    "        \n",
    "        try:\n",
    "            if os.path.exists('C:/Users/iai/Desktop/video_extraction/video_frame'):\n",
    "                shutil.rmtree('C:/Users/iai/Desktop/video_extraction/video_frame')\n",
    "\n",
    "        except OSError:\n",
    "            pass\n",
    "\n",
    "\n",
    "    \n",
    "    \n",
    "    \n",
    "    \n",
    "    \n"
   ]
  },
  {
   "cell_type": "code",
   "execution_count": null,
   "id": "32b64fe7",
   "metadata": {},
   "outputs": [],
   "source": []
  }
 ],
 "metadata": {
  "kernelspec": {
   "display_name": "Pytorch",
   "language": "python",
   "name": "pytorch"
  },
  "language_info": {
   "codemirror_mode": {
    "name": "ipython",
    "version": 3
   },
   "file_extension": ".py",
   "mimetype": "text/x-python",
   "name": "python",
   "nbconvert_exporter": "python",
   "pygments_lexer": "ipython3",
   "version": "3.7.12"
  }
 },
 "nbformat": 4,
 "nbformat_minor": 5
}
