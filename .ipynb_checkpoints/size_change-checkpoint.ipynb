{
 "cells": [
  {
   "cell_type": "markdown",
   "id": "99b824c6",
   "metadata": {},
   "source": [
    "1. 동영상 하나당 top-view 좌표 구하기!"
   ]
  },
  {
   "cell_type": "markdown",
   "id": "82319051",
   "metadata": {},
   "source": [
    "유튜브에서 하나의 동영상 다운받기 "
   ]
  },
  {
   "cell_type": "code",
   "execution_count": null,
   "id": "b4ff4912",
   "metadata": {},
   "outputs": [],
   "source": [
    "from pytube import YouTube\n",
    "DOWNLOAD_FOLDER = \"C:/Users/iai/Desktop/video_extraction/당구동영상/초구\"\n",
    "url = \"https://www.youtube.com/watch?v=7hwr5wseKjU&list=PLTqantPa3mHGxIoRXtHI5FWWrzInYi2MW&index=1\"\n",
    "yt = YouTube(url)\n",
    "stream = yt.streams.get_highest_resolution()\n",
    "stream.download(DOWNLOAD_FOLDER)"
   ]
  },
  {
   "cell_type": "markdown",
   "id": "b360f364",
   "metadata": {},
   "source": [
    "유튜브에서 플레이리스트 다운받기"
   ]
  },
  {
   "cell_type": "code",
   "execution_count": null,
   "id": "5b67389b",
   "metadata": {},
   "outputs": [],
   "source": [
    "from pytube import Playlist\n",
    "DOWNLOAD_FOLDER = \"C:/Users/iai/Desktop/video_extraction/당구동영상/초구\"\n",
    "#초구 동영상 예시 하나\n",
    "p = Playlist('https://www.youtube.com/watch?v=7hwr5wseKjU&list=PLTqantPa3mHGxIoRXtHI5FWWrzInYi2MW&index=1')\n",
    "for video in p.videos:\n",
    "    video.streams.first().download(DOWNLOAD_FOLDER)"
   ]
  },
  {
   "cell_type": "markdown",
   "id": "be50b911",
   "metadata": {},
   "source": [
    "한 프레임만 우선 저장"
   ]
  },
  {
   "cell_type": "code",
   "execution_count": null,
   "id": "752b66b6",
   "metadata": {},
   "outputs": [],
   "source": [
    "import cv2\n",
    "import numpy as np\n",
    "import os\n",
    "import os.path\n",
    "\n",
    "name = '3쿠션 초구 잘 치는 방법 (당구박사 쓰리쿠션 당구레슨 초구 1-1 시범 동영상)'\n",
    "video = \"C:/Users/iai/Desktop/video_extraction/당구동영상/초구/\" + name + \".mp4\"\n",
    "cap = cv2.VideoCapture(video)\n",
    "\n",
    "#1. 우선 비디오에서 첫번째 프레임 얻어내기        \n",
    "if cap.isOpened():\n",
    "    print('open')\n",
    "    while True:\n",
    "        ret, frame = cap.read()\n",
    "        if ret:\n",
    "            if(cap.get(1) % 100==0):\n",
    "                # 추출된 이미지 하나가 저장되는 경로 \n",
    "                file_path = \"C:/Users/iai/Desktop/video_extraction/당구동영상/시범이미지/\"\n",
    "                img_path = file_path+\"{}.png\".format(name)\n",
    "                \n",
    "                \n",
    "                #이미지 하나 저장\n",
    "                #한글파일 경로 저장 안됨 -> 인코딩\n",
    "                extension = os.path.splitext(img_path)[1] # 이미지 확장자\n",
    "                result, encoded_img = cv2.imencode(extension, frame)\n",
    "                \n",
    "                if result:\n",
    "                    with open(img_path, mode='w+b') as f:\n",
    "                        encoded_img.tofile(f)\n",
    "                \n",
    "                \n",
    "                cap.release()\n",
    "                cv2.waitKey(0)\n",
    "                cv2.destroyAllWindows()\n",
    "            \n",
    "                \n",
    "                #기존에 이름 있으면 멈추기\n",
    "                if (os.path.exists(img_path)):\n",
    "                    print(\"저장 완료\")\n",
    "                    #cv2.imshow(\"frame\",frame)\n",
    "                   \n",
    "                    break;\n",
    "                 \n",
    "cap.release()\n",
    "cv2.waitKey(0)\n",
    "cv2.destroyAllWindows()"
   ]
  },
  {
   "cell_type": "code",
   "execution_count": 1,
   "id": "44832f14",
   "metadata": {},
   "outputs": [
    {
     "name": "stdout",
     "output_type": "stream",
     "text": [
      "open\n"
     ]
    },
    {
     "ename": "KeyboardInterrupt",
     "evalue": "",
     "output_type": "error",
     "traceback": [
      "\u001b[1;31m---------------------------------------------------------------------------\u001b[0m",
      "\u001b[1;31mKeyboardInterrupt\u001b[0m                         Traceback (most recent call last)",
      "\u001b[1;32m~\\AppData\\Local\\Temp\\ipykernel_1108\\2097495396.py\u001b[0m in \u001b[0;36m<module>\u001b[1;34m\u001b[0m\n\u001b[0;32m     12\u001b[0m     \u001b[0mcount\u001b[0m \u001b[1;33m=\u001b[0m \u001b[1;36m0\u001b[0m\u001b[1;33m\u001b[0m\u001b[1;33m\u001b[0m\u001b[0m\n\u001b[0;32m     13\u001b[0m     \u001b[1;32mwhile\u001b[0m \u001b[1;32mTrue\u001b[0m\u001b[1;33m:\u001b[0m\u001b[1;33m\u001b[0m\u001b[1;33m\u001b[0m\u001b[0m\n\u001b[1;32m---> 14\u001b[1;33m         \u001b[0mret\u001b[0m\u001b[1;33m,\u001b[0m \u001b[0mframe\u001b[0m \u001b[1;33m=\u001b[0m \u001b[0mcap\u001b[0m\u001b[1;33m.\u001b[0m\u001b[0mread\u001b[0m\u001b[1;33m(\u001b[0m\u001b[1;33m)\u001b[0m\u001b[1;33m\u001b[0m\u001b[1;33m\u001b[0m\u001b[0m\n\u001b[0m\u001b[0;32m     15\u001b[0m         \u001b[1;32mif\u001b[0m \u001b[0mret\u001b[0m\u001b[1;33m:\u001b[0m\u001b[1;33m\u001b[0m\u001b[1;33m\u001b[0m\u001b[0m\n\u001b[0;32m     16\u001b[0m \u001b[1;33m\u001b[0m\u001b[0m\n",
      "\u001b[1;31mKeyboardInterrupt\u001b[0m: "
     ]
    }
   ],
   "source": [
    "import cv2\n",
    "import numpy as np\n",
    "import os\n",
    "import os.path\n",
    "\n",
    "video = \"C:/Users/iai/Desktop/video_extraction/test/test1.mp4\"\n",
    "cap = cv2.VideoCapture(video)\n",
    "\n",
    "#1. 우선 비디오에서 첫번째 프레임 얻어내기        \n",
    "if cap.isOpened():\n",
    "    print('open')\n",
    "    count = 0\n",
    "    while True:\n",
    "        ret, frame = cap.read()\n",
    "        if ret:\n",
    "            \n",
    "            # 추출된 이미지 하나가 저장되는 경로 \n",
    "            file_path = \"C:/Users/iai/Desktop/video_extraction/video_frame/garbage/\"\n",
    "            img_path = file_path+\"{}.png\".format(count)\n",
    "\n",
    "\n",
    "            #이미지 하나 저장\n",
    "            #한글파일 경로 저장 안됨 -> 인코딩\n",
    "            cv2.imwrite(img_path, frame)\n",
    "            count += 1\n",
    "\n",
    "            \n",
    "cap.release()\n"
   ]
  },
  {
   "cell_type": "markdown",
   "id": "bdcf0f62",
   "metadata": {},
   "source": [
    "관심 영역 좌표 알기\n",
    "\n",
    "--> Select a ROI and then press SPACE or ENTER button!\n",
    "\n",
    "--> Cancel the selection process by pressing c button!\n",
    "\n",
    "--> (국내식 대대 내경: 1224/2448) resize"
   ]
  },
  {
   "cell_type": "code",
   "execution_count": 1,
   "id": "23127cc4",
   "metadata": {},
   "outputs": [
    {
     "name": "stdout",
     "output_type": "stream",
     "text": [
      "roi =  (40, 59, 1201, 620)\n"
     ]
    }
   ],
   "source": [
    "import cv2\n",
    "import numpy as np\n",
    "\n",
    "name = '3쿠션 초구 잘 치는 방법 (당구박사 쓰리쿠션 당구레슨 초구 1-1 시범 동영상)'\n",
    "file_path = \"C:/Users/iai/Desktop/video_extraction/당구동영상/시범이미지/\"\n",
    "img_path = file_path+\"{}.png\".format(name)\n",
    "\n",
    "img_array = np.fromfile(img_path, np.uint8)\n",
    "src = cv2.imdecode(img_array, cv2.IMREAD_COLOR)\n",
    "#여기까지 imread+decoding 한것!\n",
    "\n",
    "\n",
    "#원본 이미지를 띄우고, 마우스 이벤트 처리도 도와준다.\n",
    "roi = cv2.selectROI(src)\n",
    "\n",
    "#(x 시작 지점, y 시작 지점, x축 드래그 한 길이, y축 드래그 한 길이)\n",
    "print('roi = ', roi)\n",
    "\n",
    "\n",
    "roi_image = src[roi[1]:roi[1] + roi[3],  roi[0]:roi[0] + roi[2]]\n",
    "#보간법\n",
    "roi_image = cv2.resize(roi_image, dsize=(2448, 1224), interpolation=cv2.INTER_AREA)\n",
    "\n",
    "cv2.imshow('roi', roi_image)\n",
    "cv2.waitKey()\n",
    "cv2.destroyAllWindows()\n",
    "\n",
    "#결과값으로 (x 시작 시점, y 시작 지점, x축 드래그한 길이, y축 드래그한 길이 ) 나온다.\n",
    "# 파란색 당구대 천 영역만 잡기"
   ]
  },
  {
   "cell_type": "code",
   "execution_count": null,
   "id": "690bc93d",
   "metadata": {},
   "outputs": [],
   "source": [
    "import cv2\n",
    "import numpy as np\n",
    "import os\n",
    "import os.path\n",
    "\n",
    "name = '3쿠션 초구 잘 치는 방법 (당구박사 쓰리쿠션 당구레슨 초구 1-1 시범 동영상)'\n",
    "video = \"C:/Users/iai/Desktop/video_extraction/당구동영상/초구/\" + name + \".mp4\"\n",
    "cap = cv2.VideoCapture(video)\n",
    "\n",
    "#프레임에서 이미지 crop, resize하고     \n",
    "if cap.isOpened():\n",
    "    print('open')\n",
    "    while True:\n",
    "        ret, frame = cap.read()\n",
    "        if ret:\n",
    "            if(cap.get(1) % 100==0):\n",
    "                # 추출된 이미지 하나가 저장되는 경로 \n",
    "                file_path = \"C:/Users/iai/Desktop/video_extraction/당구동영상/시범이미지/\"\n",
    "                img_path = file_path+\"{}.png\".format(name)\n",
    "                \n",
    "                \n",
    "                #이미지 하나 저장\n",
    "                #한글파일 경로 저장 안됨 -> 인코딩\n",
    "                extension = os.path.splitext(img_path)[1] # 이미지 확장자\n",
    "                result, encoded_img = cv2.imencode(extension, frame)\n",
    "                \n",
    "                if result:\n",
    "                    with open(img_path, mode='w+b') as f:\n",
    "                        encoded_img.tofile(f)\n",
    "                \n",
    "                cap.release()\n",
    "                cv2.waitKey(0)\n",
    "                cv2.destroyAllWindows()\n",
    "            \n",
    "                \n",
    "                #기존에 이름 있으면 멈추기\n",
    "                if (os.path.exists(img_path)):\n",
    "                    print(\"저장 완료\")\n",
    "                    #cv2.imshow(\"frame\",frame)\n",
    "                   \n",
    "                    break;\n",
    "                 \n",
    "cap.release()\n",
    "cv2.waitKey(0)\n",
    "cv2.destroyAllWindows()"
   ]
  },
  {
   "cell_type": "code",
   "execution_count": null,
   "id": "cfcf878b",
   "metadata": {},
   "outputs": [],
   "source": []
  }
 ],
 "metadata": {
  "kernelspec": {
   "display_name": "Pytorch",
   "language": "python",
   "name": "pytorch"
  },
  "language_info": {
   "codemirror_mode": {
    "name": "ipython",
    "version": 3
   },
   "file_extension": ".py",
   "mimetype": "text/x-python",
   "name": "python",
   "nbconvert_exporter": "python",
   "pygments_lexer": "ipython3",
   "version": "3.7.12"
  }
 },
 "nbformat": 4,
 "nbformat_minor": 5
}
