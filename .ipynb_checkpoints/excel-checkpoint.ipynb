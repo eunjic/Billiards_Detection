{
 "cells": [
  {
   "cell_type": "code",
   "execution_count": 29,
   "id": "cf7965cf",
   "metadata": {},
   "outputs": [],
   "source": [
    "import os\n",
    "import openpyxl as op\n",
    "#엑셀 이미지 삽입을 위한 openpyxl import\n",
    "from openpyxl.drawing.image import Image\n",
    "#openpyxl Image 클래스와 중복되므로 PIL은 pi로 설정\n",
    "from PIL import Image as pi\n",
    "import pandas as pd\n",
    "import json"
   ]
  },
  {
   "cell_type": "code",
   "execution_count": 5,
   "id": "94274731",
   "metadata": {},
   "outputs": [],
   "source": [
    "wb = op.load_workbook(\"C:/Users/iai/Desktop/video_extraction/labeling.xlsx\")\n",
    "ws = wb['002']\n",
    "count = 46\n",
    "\n",
    "file_path = \"C:/Users/iai/Desktop/video_extraction/outputs\"\n",
    "#이미지 객체 생성\n",
    "img = Image(file_path+\"/002/45/action.png\")\n",
    "#이미지를 \"A1\"에 추가\n",
    "ws.add_image(img, \"B{}\".format(count))\n",
    "#파일 이름 저장\n",
    "\n",
    "wb.save(\"C:/Users/iai/Desktop/video_extraction/labeling.xlsx\")"
   ]
  },
  {
   "cell_type": "code",
   "execution_count": 15,
   "id": "514a84d2",
   "metadata": {},
   "outputs": [
    {
     "name": "stdout",
     "output_type": "stream",
     "text": [
      "000  finish!\n",
      "001  finish!\n",
      "002  finish!\n",
      "003  finish!\n",
      "004  finish!\n",
      "005  finish!\n",
      "006  finish!\n",
      "007  finish!\n",
      "008  finish!\n",
      "009  finish!\n",
      "010  finish!\n",
      "011  finish!\n",
      "012  finish!\n",
      "013  finish!\n",
      "014  finish!\n",
      "015  finish!\n",
      "016  finish!\n",
      "017  finish!\n",
      "018  finish!\n",
      "019  finish!\n",
      "020  finish!\n",
      "021  finish!\n",
      "022  finish!\n",
      "023  finish!\n",
      "024  finish!\n",
      "025  finish!\n",
      "026  finish!\n"
     ]
    }
   ],
   "source": [
    "file_path = \"C:/Users/iai/Desktop/video_extraction/outputs\"\n",
    "\n",
    "#리스트 for문 실행\n",
    "\n",
    "wb = op.load_workbook(\"C:/Users/iai/Desktop/video_extraction/labeling.xlsx\")\n",
    "for video in os.listdir(file_path):\n",
    "    #openpyxl Workbook 객체 생성\n",
    "    VIDEO = file_path + \"/\" + video\n",
    "    #시트 설정\n",
    "    ws = wb[video]\n",
    "    count = 2\n",
    "    for action in os.listdir(VIDEO):\n",
    "        img_path = VIDEO + \"/\" + action + \"/action.png\"\n",
    "        if os.path.exists(img_path):\n",
    "            \n",
    "            #이미지 객체 생성\n",
    "            img = Image(img_path)\n",
    "            #이미지를 \"A1\"에 추가\n",
    "            ws.add_image(img, \"B{}\".format(count))\n",
    "            #파일 이름 저장\n",
    "            ws[\"A{}\".format(count)] = action\n",
    "            #엑셀 파일 저장\n",
    "            count += 1\n",
    "            wb.save(\"C:/Users/iai/Desktop/video_extraction/labeling.xlsx\")\n",
    "        else:\n",
    "            \n",
    "            pass;\n",
    "    print(video, \" finish!\")"
   ]
  },
  {
   "cell_type": "code",
   "execution_count": null,
   "id": "f3e91bdd",
   "metadata": {},
   "outputs": [],
   "source": []
  },
  {
   "cell_type": "code",
   "execution_count": 12,
   "id": "79088a6b",
   "metadata": {
    "scrolled": true
   },
   "outputs": [
    {
     "name": "stdout",
     "output_type": "stream",
     "text": [
      "['000', '001', '002', '003', '004', '005', '006', '007', '008', '009', '010', '011', '012', '013', '014', '015', '016', '017', '018', '019', '020', '021', '022', '023', '024', '025', '026']\n"
     ]
    }
   ],
   "source": [
    "wb = op.load_workbook(\"C:/Users/iai/Desktop/video_extraction/labeling.xlsx\")\n",
    "print(wb.sheetnames)"
   ]
  },
  {
   "cell_type": "code",
   "execution_count": 11,
   "id": "636055e6",
   "metadata": {},
   "outputs": [],
   "source": [
    "wb = op.load_workbook(\"C:/Users/iai/Desktop/video_extraction/labeling.xlsx\")\n",
    "file_path = \"C:/Users/iai/Desktop/video_extraction/outputs\"\n",
    "#시트 설정\n",
    "count = 1\n",
    "for video in os.listdir(file_path):\n",
    "    ws_copy = wb.copy_worksheet(wb['000'])\n",
    "    ws_copy.title = video\n",
    "    wb.save(\"C:/Users/iai/Desktop/video_extraction/labeling.xlsx\")\n",
    "    wb.close()\n",
    "    count += 1 \n"
   ]
  },
  {
   "cell_type": "markdown",
   "id": "ecc46ad6",
   "metadata": {},
   "source": [
    "데이터 불러오기"
   ]
  },
  {
   "cell_type": "code",
   "execution_count": 44,
   "id": "ac32032f",
   "metadata": {},
   "outputs": [],
   "source": [
    "num = '003'\n",
    "df = pd.read_excel(\"C:/Users/iai/Desktop/video_extraction/labeling.xlsx\", sheet_name = num,  usecols = ['Score', 'Kiss', 'Skill'])\n",
    "data = df.values.tolist()\n",
    "#int float str\n",
    "\n",
    "PATH = \"C:/Users/iai/Desktop/video_extraction/outputs/\" + num\n",
    "count = 0\n",
    "for action in os.listdir(PATH):\n",
    "    INFO = PATH + \"/\" + action + \"/info.json\"\n",
    "    with open(INFO, 'r', encoding = 'utf-8') as json_file:\n",
    "        info1 = json.load(json_file)\n",
    "    \n",
    "    del(info1['kiss'])\n",
    "    del(info1['score'])\n",
    "    del(info1['skill'])\n",
    "    \n",
    "    score = data[count][0]\n",
    "    kiss = int(data[count][1])\n",
    "    skill = data[count][2]\n",
    "    \n",
    "    add_dict = { \"kiss\" : str(kiss), \"score\" : str(score), \"skill\" : skill}\n",
    "    info1.update(add_dict)\n",
    "    \n",
    "    with open(INFO, 'w', encoding = 'utf-8') as out_file:\n",
    "        json.dump(info1, out_file,  ensure_ascii=False, indent=\"\\t\")\n",
    "    count += 1\n",
    "#003까지 완료!"
   ]
  },
  {
   "cell_type": "code",
   "execution_count": 41,
   "id": "a0363091",
   "metadata": {},
   "outputs": [
    {
     "data": {
      "text/plain": [
       "[[0, 1, 0.0, 'outside_angle'],\n",
       " [1, 0, 0.0, 'cross_table'],\n",
       " [2, 0, 0.0, 'outside_angle'],\n",
       " [3, 0, 1.0, 'grand_rotation'],\n",
       " [4, 0, 0.0, 'bank_shot'],\n",
       " [5, 1, 0.0, 'outside_angle'],\n",
       " [6, 0, 0.0, 'side_angle'],\n",
       " [7, 1, 0.0, 'outside_angle'],\n",
       " [8, 1, 0.0, 'grand_rotation'],\n",
       " [9, 0, 0.0, 'side_angle'],\n",
       " [10, 1, 0.0, 'double_rail'],\n",
       " [11, 0, 1.0, 'grand_rotation'],\n",
       " [12, 1, 0.0, 'outside_angle'],\n",
       " [14, 0, 0.0, 'side_angle'],\n",
       " [15, 0, 0.0, 'side_angle'],\n",
       " [16, 1, 0.0, 'cross_table'],\n",
       " [17, 0, 0.0, 'outside_angle'],\n",
       " [18, 1, 0.0, 'side_angle'],\n",
       " [19, 1, nan, 'grand_rotation'],\n",
       " [20, 1, 0.0, 'outside_angle'],\n",
       " [21, 0, 0.0, 'side_angle'],\n",
       " [22, 1, 0.0, 'long_angle'],\n",
       " [23, 0, 0.0, 'outside_angle'],\n",
       " [24, 1, 0.0, 'outside_angle'],\n",
       " [25, 0, 0.0, 'outside_angle'],\n",
       " [26, 0, 0.0, 'side_angle'],\n",
       " [27, 0, 0.0, 'outside_angle'],\n",
       " [28, 0, 0.0, 'outside_angle'],\n",
       " [29, 0, 0.0, 'cross_table'],\n",
       " [30, 0, 0.0, 'grand_rotation'],\n",
       " [31, 1, 0.0, 'outside_angle'],\n",
       " [32, 0, 0.0, 'grand_rotation'],\n",
       " [33, 0, 0.0, 'outside_angle'],\n",
       " [34, 0, 0.0, 'side_angle'],\n",
       " [35, 1, 0.0, 'side_angle'],\n",
       " [36, 1, 0.0, 'side_angle'],\n",
       " [37, 1, 0.0, 'long_angle'],\n",
       " [38, 1, 0.0, 'side_angle'],\n",
       " [39, 1, 0.0, 'side_angle'],\n",
       " [40, 1, 0.0, 'side_angle'],\n",
       " [41, 1, 0.0, 'outside_angle'],\n",
       " [43, 1, 1.0, 'grand_rotation'],\n",
       " [45, 1, 0.0, 'outside_angle'],\n",
       " [46, 1, 0.0, 'long_angle'],\n",
       " [47, 1, 0.0, 'grand_rotation'],\n",
       " [48, 0, 0.0, 'outside_angle'],\n",
       " [49, 1, 0.0, 'grand_rotation'],\n",
       " [50, 0, 1.0, 'long_angle'],\n",
       " [51, 1, 0.0, 'outside_angle'],\n",
       " [52, 1, 0.0, 'side_angle'],\n",
       " [53, 1, 0.0, 'side_angle'],\n",
       " [55, 1, 0.0, 'outside_angle'],\n",
       " [56, 0, 0.0, 'cross_table'],\n",
       " [57, 1, 0.0, 'grand_rotation'],\n",
       " [58, 1, 0.0, 'side_angle'],\n",
       " [59, 0, 0.0, 'long_angle'],\n",
       " [60, 0, 0.0, 'outside_angle'],\n",
       " [61, 0, 0.0, 'bank_shot'],\n",
       " [62, 1, 0.0, 'outside_angle'],\n",
       " [63, 0, 1.0, 'grand_rotation'],\n",
       " [64, 0, 0.0, 'outside_angle'],\n",
       " [65, 0, 1.0, 'grand_rotation'],\n",
       " [66, 1, 0.0, 'side_angle'],\n",
       " [67, 1, 0.0, 'side_angle'],\n",
       " [68, 1, 0.0, 'grand_rotation'],\n",
       " [69, 0, 0.0, 'outside_angle'],\n",
       " [70, 1, 0.0, 'long_angle'],\n",
       " [71, 0, 0.0, 'bank_shot'],\n",
       " [72, 1, 0.0, 'side_angle'],\n",
       " [73, 0, 1.0, 'long_angle'],\n",
       " [74, 1, 0.0, 'outside_angle'],\n",
       " [75, 1, 0.0, 'outside_angle'],\n",
       " [76, 0, 0.0, 'outside_angle'],\n",
       " [77, 0, 0.0, 'outside_angle'],\n",
       " [78, 1, 0.0, 'grand_rotation'],\n",
       " [79, 1, 0.0, 'outside_angle'],\n",
       " [80, 1, 0.0, 'outside_angle'],\n",
       " [81, 1, 0.0, 'side_angle'],\n",
       " [82, 0, 0.0, 'side_angle'],\n",
       " [83, 1, 0.0, 'grand_rotation']]"
      ]
     },
     "execution_count": 41,
     "metadata": {},
     "output_type": "execute_result"
    }
   ],
   "source": [
    "df = pd.read_excel(\"C:/Users/iai/Desktop/video_extraction/labeling.xlsx\", sheet_name = num,  usecols = ['FileName','Score', 'Kiss', 'Skill'])\n",
    "data = df.values.tolist()\n",
    "data\n"
   ]
  },
  {
   "cell_type": "code",
   "execution_count": null,
   "id": "85dc6bb2",
   "metadata": {},
   "outputs": [],
   "source": []
  }
 ],
 "metadata": {
  "kernelspec": {
   "display_name": "Python 3 (ipykernel)",
   "language": "python",
   "name": "python3"
  },
  "language_info": {
   "codemirror_mode": {
    "name": "ipython",
    "version": 3
   },
   "file_extension": ".py",
   "mimetype": "text/x-python",
   "name": "python",
   "nbconvert_exporter": "python",
   "pygments_lexer": "ipython3",
   "version": "3.9.7"
  }
 },
 "nbformat": 4,
 "nbformat_minor": 5
}
