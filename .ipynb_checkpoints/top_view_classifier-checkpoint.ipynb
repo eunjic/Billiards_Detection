{
 "cells": [
  {
   "cell_type": "markdown",
   "id": "aa96f5a3",
   "metadata": {},
   "source": [
    "custom data preprocessing"
   ]
  },
  {
   "cell_type": "code",
   "execution_count": 1,
   "id": "9aecf5a0",
   "metadata": {},
   "outputs": [
    {
     "name": "stderr",
     "output_type": "stream",
     "text": [
      "Copying files: 188 files [00:00, 726.46 files/s]\n"
     ]
    }
   ],
   "source": [
    "import splitfolders\n",
    "splitfolders.ratio('C:/Users/iai/Desktop/billiards_input', output = \"C:/Users/iai/Desktop/billiards_output\", seed = 77, ratio = (0.8,0.1,0.1))"
   ]
  },
  {
   "cell_type": "code",
   "execution_count": 2,
   "id": "e744bb21",
   "metadata": {},
   "outputs": [],
   "source": [
    "\n",
    "from tensorflow.keras.layers import Input, Lambda, Dense, Flatten,Dropout\n",
    "from tensorflow.keras.models import Model\n",
    "from tensorflow.keras.applications.vgg19 import VGG19\n",
    "from tensorflow.keras.applications.vgg19 import preprocess_input\n",
    "from tensorflow.keras.preprocessing import image\n",
    "from tensorflow.keras.preprocessing.image import ImageDataGenerator\n",
    "from tensorflow.keras.models import Sequential\n",
    "from tensorflow.keras.layers import Conv2D, MaxPooling2D\n",
    "from tensorflow.keras.layers import Activation, Dense\n",
    "\n",
    "import numpy as np\n",
    "import pandas as pd\n",
    "import os\n",
    "import cv2\n",
    "import matplotlib.pyplot as plt"
   ]
  },
  {
   "cell_type": "code",
   "execution_count": 3,
   "id": "1d1b262b",
   "metadata": {},
   "outputs": [],
   "source": [
    "train_path=\"C:/Users/iai/Desktop/billiards_output/train\"\n",
    "test_path=\"C:/Users/iai/Desktop/billiards_output/test\"\n",
    "val_path=\"C:/Users/iai/Desktop/billiards_output/val\""
   ]
  },
  {
   "cell_type": "code",
   "execution_count": 4,
   "id": "8cab0315",
   "metadata": {},
   "outputs": [],
   "source": [
    "x_train=[]\n",
    "\n",
    "for folder in os.listdir(train_path):\n",
    "\n",
    "    sub_path=train_path+\"/\"+folder\n",
    "\n",
    "    for img in os.listdir(sub_path):\n",
    "\n",
    "        image_path=sub_path+\"/\"+img\n",
    "\n",
    "        img_arr=cv2.imread(image_path)\n",
    "\n",
    "        img_arr=cv2.resize(img_arr,(224,224))\n",
    "\n",
    "        x_train.append(img_arr)\n",
    "\n",
    "x_test=[]\n",
    "\n",
    "for folder in os.listdir(test_path):\n",
    "\n",
    "    sub_path=test_path+\"/\"+folder\n",
    "\n",
    "    for img in os.listdir(sub_path):\n",
    "\n",
    "        image_path=sub_path+\"/\"+img\n",
    "\n",
    "        img_arr=cv2.imread(image_path)\n",
    "\n",
    "        img_arr=cv2.resize(img_arr,(224,224))\n",
    "\n",
    "        x_test.append(img_arr)\n",
    "\n",
    "x_val=[]\n",
    "\n",
    "for folder in os.listdir(val_path):\n",
    "\n",
    "    sub_path=val_path+\"/\"+folder\n",
    "\n",
    "    for img in os.listdir(sub_path):\n",
    "\n",
    "        image_path=sub_path+\"/\"+img\n",
    "\n",
    "        img_arr=cv2.imread(image_path)\n",
    "\n",
    "        img_arr=cv2.resize(img_arr,(224,224))\n",
    "\n",
    "        x_val.append(img_arr)"
   ]
  },
  {
   "cell_type": "code",
   "execution_count": 5,
   "id": "7c54383d",
   "metadata": {},
   "outputs": [],
   "source": [
    "train_x=np.array(x_train)\n",
    "test_x=np.array(x_test)\n",
    "val_x=np.array(x_val)"
   ]
  },
  {
   "cell_type": "code",
   "execution_count": 6,
   "id": "bd211b44",
   "metadata": {},
   "outputs": [],
   "source": [
    "train_x=train_x/255.0\n",
    "test_x=test_x/255.0\n",
    "val_x=val_x/255.0"
   ]
  },
  {
   "cell_type": "code",
   "execution_count": 7,
   "id": "ae38c9b1",
   "metadata": {},
   "outputs": [],
   "source": [
    "train_datagen = ImageDataGenerator(rescale = 1./255, \n",
    "                                  horizontal_flip=True,\n",
    "                                  vertical_flip = True,\n",
    "                                  brightness_range = [0.7,1.3],\n",
    "                                  zoom_range = 0.1)\n",
    "\n",
    "test_datagen = ImageDataGenerator(rescale = 1./255, \n",
    "                                  horizontal_flip=True,\n",
    "                                  vertical_flip = True,\n",
    "                                  brightness_range = [0.7,1.3],\n",
    "                                  zoom_range = 0.1)\n",
    "\n",
    "val_datagen = ImageDataGenerator(rescale = 1./255, \n",
    "                                  horizontal_flip=True,\n",
    "                                  vertical_flip = True,\n",
    "                                  brightness_range = [0.7,1.3],\n",
    "                                  zoom_range = 0.1)\n"
   ]
  },
  {
   "cell_type": "code",
   "execution_count": 8,
   "id": "58fcefb9",
   "metadata": {},
   "outputs": [
    {
     "name": "stdout",
     "output_type": "stream",
     "text": [
      "Found 150 images belonging to 2 classes.\n",
      "Found 20 images belonging to 2 classes.\n",
      "Found 18 images belonging to 2 classes.\n"
     ]
    }
   ],
   "source": [
    "training_set = train_datagen.flow_from_directory(train_path,\n",
    "                                                 target_size = (224, 224),\n",
    "                                                 batch_size = 32,\n",
    "                                                 class_mode = 'binary')\n",
    "test_set = test_datagen.flow_from_directory(test_path,\n",
    "                                            target_size = (224, 224),\n",
    "                                            batch_size = 32,\n",
    "                                            class_mode = 'binary')\n",
    "val_set = val_datagen.flow_from_directory(val_path,\n",
    "                                            target_size = (224, 224),\n",
    "                                            batch_size = 32,\n",
    "                                            class_mode = 'binary')"
   ]
  },
  {
   "cell_type": "code",
   "execution_count": 9,
   "id": "1b3440ad",
   "metadata": {},
   "outputs": [],
   "source": [
    "train_y=training_set.classes\n",
    "test_y=test_set.classes\n",
    "val_y=val_set.classes"
   ]
  },
  {
   "cell_type": "code",
   "execution_count": 10,
   "id": "aa5f17fe",
   "metadata": {},
   "outputs": [
    {
     "data": {
      "text/plain": [
       "{'other_view': 0, 'top_view': 1}"
      ]
     },
     "execution_count": 10,
     "metadata": {},
     "output_type": "execute_result"
    }
   ],
   "source": [
    "training_set.class_indices"
   ]
  },
  {
   "cell_type": "code",
   "execution_count": 11,
   "id": "c427b0df",
   "metadata": {},
   "outputs": [
    {
     "data": {
      "text/plain": [
       "((150,), (20,), (18,))"
      ]
     },
     "execution_count": 11,
     "metadata": {},
     "output_type": "execute_result"
    }
   ],
   "source": [
    "train_y.shape,test_y.shape,val_y.shape"
   ]
  },
  {
   "cell_type": "markdown",
   "id": "7ef4c313",
   "metadata": {},
   "source": [
    "model building - vgg19"
   ]
  },
  {
   "cell_type": "code",
   "execution_count": 12,
   "id": "3fe1f745",
   "metadata": {},
   "outputs": [],
   "source": [
    "vgg = VGG19(input_shape=train_x.shape[1:],weights='imagenet', include_top=False)"
   ]
  },
  {
   "cell_type": "code",
   "execution_count": 13,
   "id": "5ef08070",
   "metadata": {},
   "outputs": [],
   "source": [
    "#do not train the pre-trained layers of VGG-19\n",
    "for layer in vgg.layers:\n",
    "    layer.trainable = False"
   ]
  },
  {
   "cell_type": "code",
   "execution_count": 14,
   "id": "b87b106d",
   "metadata": {},
   "outputs": [],
   "source": [
    "x = Flatten()(vgg.output)"
   ]
  },
  {
   "cell_type": "code",
   "execution_count": 15,
   "id": "59e2a75c",
   "metadata": {},
   "outputs": [],
   "source": [
    "#adding output layer.Sigmoid classifier is used as it is binary-class classification\n",
    "prediction = Dense(1, activation='sigmoid')(x)\n",
    "\n",
    "model = Model(inputs=vgg.input, outputs=prediction)"
   ]
  },
  {
   "cell_type": "code",
   "execution_count": 16,
   "id": "04b5fb3a",
   "metadata": {},
   "outputs": [
    {
     "name": "stdout",
     "output_type": "stream",
     "text": [
      "Model: \"model\"\n",
      "_________________________________________________________________\n",
      "Layer (type)                 Output Shape              Param #   \n",
      "=================================================================\n",
      "input_1 (InputLayer)         [(None, 224, 224, 3)]     0         \n",
      "_________________________________________________________________\n",
      "block1_conv1 (Conv2D)        (None, 224, 224, 64)      1792      \n",
      "_________________________________________________________________\n",
      "block1_conv2 (Conv2D)        (None, 224, 224, 64)      36928     \n",
      "_________________________________________________________________\n",
      "block1_pool (MaxPooling2D)   (None, 112, 112, 64)      0         \n",
      "_________________________________________________________________\n",
      "block2_conv1 (Conv2D)        (None, 112, 112, 128)     73856     \n",
      "_________________________________________________________________\n",
      "block2_conv2 (Conv2D)        (None, 112, 112, 128)     147584    \n",
      "_________________________________________________________________\n",
      "block2_pool (MaxPooling2D)   (None, 56, 56, 128)       0         \n",
      "_________________________________________________________________\n",
      "block3_conv1 (Conv2D)        (None, 56, 56, 256)       295168    \n",
      "_________________________________________________________________\n",
      "block3_conv2 (Conv2D)        (None, 56, 56, 256)       590080    \n",
      "_________________________________________________________________\n",
      "block3_conv3 (Conv2D)        (None, 56, 56, 256)       590080    \n",
      "_________________________________________________________________\n",
      "block3_conv4 (Conv2D)        (None, 56, 56, 256)       590080    \n",
      "_________________________________________________________________\n",
      "block3_pool (MaxPooling2D)   (None, 28, 28, 256)       0         \n",
      "_________________________________________________________________\n",
      "block4_conv1 (Conv2D)        (None, 28, 28, 512)       1180160   \n",
      "_________________________________________________________________\n",
      "block4_conv2 (Conv2D)        (None, 28, 28, 512)       2359808   \n",
      "_________________________________________________________________\n",
      "block4_conv3 (Conv2D)        (None, 28, 28, 512)       2359808   \n",
      "_________________________________________________________________\n",
      "block4_conv4 (Conv2D)        (None, 28, 28, 512)       2359808   \n",
      "_________________________________________________________________\n",
      "block4_pool (MaxPooling2D)   (None, 14, 14, 512)       0         \n",
      "_________________________________________________________________\n",
      "block5_conv1 (Conv2D)        (None, 14, 14, 512)       2359808   \n",
      "_________________________________________________________________\n",
      "block5_conv2 (Conv2D)        (None, 14, 14, 512)       2359808   \n",
      "_________________________________________________________________\n",
      "block5_conv3 (Conv2D)        (None, 14, 14, 512)       2359808   \n",
      "_________________________________________________________________\n",
      "block5_conv4 (Conv2D)        (None, 14, 14, 512)       2359808   \n",
      "_________________________________________________________________\n",
      "block5_pool (MaxPooling2D)   (None, 7, 7, 512)         0         \n",
      "_________________________________________________________________\n",
      "flatten (Flatten)            (None, 25088)             0         \n",
      "_________________________________________________________________\n",
      "dense (Dense)                (None, 1)                 25089     \n",
      "=================================================================\n",
      "Total params: 20,049,473\n",
      "Trainable params: 25,089\n",
      "Non-trainable params: 20,024,384\n",
      "_________________________________________________________________\n"
     ]
    }
   ],
   "source": [
    "# view the structure of the model\n",
    "model.summary()"
   ]
  },
  {
   "cell_type": "code",
   "execution_count": 17,
   "id": "55917c90",
   "metadata": {},
   "outputs": [],
   "source": [
    "model.compile(\n",
    "  loss='binary_crossentropy',\n",
    "  optimizer=\"rmsprop\",\n",
    "  metrics=['accuracy']\n",
    ")"
   ]
  },
  {
   "cell_type": "code",
   "execution_count": 18,
   "id": "edaee405",
   "metadata": {},
   "outputs": [],
   "source": [
    "from tensorflow.keras.callbacks import EarlyStopping\n",
    "early_stop=EarlyStopping(monitor='val_loss',mode='min',verbose=1,patience=15)\n",
    "#Early stopping to avoid overfitting of model"
   ]
  },
  {
   "cell_type": "code",
   "execution_count": 19,
   "id": "778be420",
   "metadata": {},
   "outputs": [
    {
     "name": "stdout",
     "output_type": "stream",
     "text": [
      "Epoch 1/100\n",
      "3/3 [==============================] - 12s 4s/step - loss: 1.8304 - accuracy: 0.6275 - val_loss: 0.2668 - val_accuracy: 0.8889\n",
      "Epoch 2/100\n",
      "3/3 [==============================] - 11s 4s/step - loss: 0.2670 - accuracy: 0.8917 - val_loss: 0.4778 - val_accuracy: 0.7778\n",
      "Epoch 3/100\n",
      "3/3 [==============================] - 12s 4s/step - loss: 0.2331 - accuracy: 0.8925 - val_loss: 0.1142 - val_accuracy: 0.9444\n",
      "Epoch 4/100\n",
      "3/3 [==============================] - 12s 4s/step - loss: 0.0522 - accuracy: 0.9900 - val_loss: 0.1426 - val_accuracy: 0.9444\n",
      "Epoch 5/100\n",
      "3/3 [==============================] - 12s 4s/step - loss: 0.0538 - accuracy: 0.9942 - val_loss: 0.1135 - val_accuracy: 0.9444\n",
      "Epoch 6/100\n",
      "3/3 [==============================] - 12s 4s/step - loss: 0.0356 - accuracy: 0.9967 - val_loss: 0.1052 - val_accuracy: 0.9444\n",
      "Epoch 7/100\n",
      "3/3 [==============================] - 12s 4s/step - loss: 0.0309 - accuracy: 1.0000 - val_loss: 0.1032 - val_accuracy: 0.9444\n",
      "Epoch 8/100\n",
      "3/3 [==============================] - 12s 4s/step - loss: 0.0273 - accuracy: 1.0000 - val_loss: 0.1027 - val_accuracy: 0.9444\n",
      "Epoch 9/100\n",
      "3/3 [==============================] - 12s 4s/step - loss: 0.0191 - accuracy: 1.0000 - val_loss: 0.1004 - val_accuracy: 0.9444\n",
      "Epoch 10/100\n",
      "3/3 [==============================] - 12s 4s/step - loss: 0.0177 - accuracy: 1.0000 - val_loss: 0.0952 - val_accuracy: 0.9444\n",
      "Epoch 11/100\n",
      "3/3 [==============================] - 12s 4s/step - loss: 0.0169 - accuracy: 1.0000 - val_loss: 0.0895 - val_accuracy: 0.9444\n",
      "Epoch 12/100\n",
      "3/3 [==============================] - 12s 4s/step - loss: 0.0147 - accuracy: 1.0000 - val_loss: 0.0882 - val_accuracy: 0.9444\n",
      "Epoch 13/100\n",
      "3/3 [==============================] - 12s 4s/step - loss: 0.0131 - accuracy: 1.0000 - val_loss: 0.0908 - val_accuracy: 0.9444\n",
      "Epoch 14/100\n",
      "3/3 [==============================] - 12s 4s/step - loss: 0.0095 - accuracy: 1.0000 - val_loss: 0.0874 - val_accuracy: 0.9444\n",
      "Epoch 15/100\n",
      "3/3 [==============================] - 12s 4s/step - loss: 0.0075 - accuracy: 1.0000 - val_loss: 0.0889 - val_accuracy: 0.9444\n",
      "Epoch 16/100\n",
      "3/3 [==============================] - 12s 4s/step - loss: 0.0069 - accuracy: 1.0000 - val_loss: 0.0834 - val_accuracy: 0.9444\n",
      "Epoch 17/100\n",
      "3/3 [==============================] - 12s 4s/step - loss: 0.0062 - accuracy: 1.0000 - val_loss: 0.0827 - val_accuracy: 0.9444\n",
      "Epoch 18/100\n",
      "3/3 [==============================] - 12s 4s/step - loss: 0.0040 - accuracy: 1.0000 - val_loss: 0.0842 - val_accuracy: 0.9444\n",
      "Epoch 19/100\n",
      "3/3 [==============================] - 12s 4s/step - loss: 0.0050 - accuracy: 1.0000 - val_loss: 0.0792 - val_accuracy: 0.9444\n",
      "Epoch 20/100\n",
      "3/3 [==============================] - 12s 4s/step - loss: 0.0037 - accuracy: 1.0000 - val_loss: 0.0773 - val_accuracy: 0.9444\n",
      "Epoch 21/100\n",
      "3/3 [==============================] - 12s 4s/step - loss: 0.0030 - accuracy: 1.0000 - val_loss: 0.0800 - val_accuracy: 0.9444\n",
      "Epoch 22/100\n",
      "3/3 [==============================] - 12s 4s/step - loss: 0.0025 - accuracy: 1.0000 - val_loss: 0.0828 - val_accuracy: 0.9444\n",
      "Epoch 23/100\n",
      "3/3 [==============================] - 12s 4s/step - loss: 0.0024 - accuracy: 1.0000 - val_loss: 0.0835 - val_accuracy: 0.9444\n",
      "Epoch 24/100\n",
      "3/3 [==============================] - 12s 4s/step - loss: 0.0022 - accuracy: 1.0000 - val_loss: 0.0761 - val_accuracy: 0.9444\n",
      "Epoch 25/100\n",
      "3/3 [==============================] - 12s 4s/step - loss: 0.0020 - accuracy: 1.0000 - val_loss: 0.0753 - val_accuracy: 1.0000\n",
      "Epoch 26/100\n",
      "3/3 [==============================] - 12s 4s/step - loss: 0.0016 - accuracy: 1.0000 - val_loss: 0.0766 - val_accuracy: 0.9444\n",
      "Epoch 27/100\n",
      "3/3 [==============================] - 12s 4s/step - loss: 0.0013 - accuracy: 1.0000 - val_loss: 0.0740 - val_accuracy: 0.9444\n",
      "Epoch 28/100\n",
      "3/3 [==============================] - 12s 4s/step - loss: 0.0012 - accuracy: 1.0000 - val_loss: 0.0747 - val_accuracy: 0.9444\n",
      "Epoch 29/100\n",
      "3/3 [==============================] - 12s 4s/step - loss: 9.8290e-04 - accuracy: 1.0000 - val_loss: 0.0737 - val_accuracy: 1.0000\n",
      "Epoch 30/100\n",
      "3/3 [==============================] - 12s 4s/step - loss: 8.1102e-04 - accuracy: 1.0000 - val_loss: 0.0739 - val_accuracy: 0.9444\n",
      "Epoch 31/100\n",
      "3/3 [==============================] - 12s 4s/step - loss: 6.3798e-04 - accuracy: 1.0000 - val_loss: 0.0741 - val_accuracy: 1.0000\n",
      "Epoch 32/100\n",
      "3/3 [==============================] - 12s 4s/step - loss: 5.8499e-04 - accuracy: 1.0000 - val_loss: 0.0735 - val_accuracy: 0.9444\n",
      "Epoch 33/100\n",
      "3/3 [==============================] - 12s 4s/step - loss: 5.1579e-04 - accuracy: 1.0000 - val_loss: 0.0752 - val_accuracy: 0.9444\n",
      "Epoch 34/100\n",
      "3/3 [==============================] - 12s 4s/step - loss: 4.4352e-04 - accuracy: 1.0000 - val_loss: 0.0729 - val_accuracy: 0.9444\n",
      "Epoch 35/100\n",
      "3/3 [==============================] - 12s 4s/step - loss: 3.4719e-04 - accuracy: 1.0000 - val_loss: 0.0731 - val_accuracy: 0.9444\n",
      "Epoch 36/100\n",
      "3/3 [==============================] - 12s 4s/step - loss: 3.6143e-04 - accuracy: 1.0000 - val_loss: 0.0722 - val_accuracy: 1.0000\n",
      "Epoch 37/100\n",
      "3/3 [==============================] - 12s 4s/step - loss: 2.9277e-04 - accuracy: 1.0000 - val_loss: 0.0717 - val_accuracy: 1.0000\n",
      "Epoch 38/100\n",
      "3/3 [==============================] - 12s 4s/step - loss: 2.5398e-04 - accuracy: 1.0000 - val_loss: 0.0721 - val_accuracy: 0.9444\n",
      "Epoch 39/100\n",
      "3/3 [==============================] - 12s 4s/step - loss: 2.2402e-04 - accuracy: 1.0000 - val_loss: 0.0750 - val_accuracy: 0.9444\n",
      "Epoch 40/100\n",
      "3/3 [==============================] - 12s 4s/step - loss: 1.6079e-04 - accuracy: 1.0000 - val_loss: 0.0712 - val_accuracy: 1.0000\n",
      "Epoch 41/100\n",
      "3/3 [==============================] - 12s 4s/step - loss: 1.2980e-04 - accuracy: 1.0000 - val_loss: 0.0816 - val_accuracy: 0.9444\n",
      "Epoch 42/100\n",
      "3/3 [==============================] - 12s 4s/step - loss: 1.4251e-04 - accuracy: 1.0000 - val_loss: 0.0730 - val_accuracy: 0.9444\n",
      "Epoch 43/100\n",
      "3/3 [==============================] - 12s 4s/step - loss: 1.1395e-04 - accuracy: 1.0000 - val_loss: 0.0715 - val_accuracy: 1.0000\n",
      "Epoch 44/100\n",
      "3/3 [==============================] - 12s 4s/step - loss: 1.0458e-04 - accuracy: 1.0000 - val_loss: 0.0774 - val_accuracy: 0.9444\n",
      "Epoch 45/100\n",
      "3/3 [==============================] - 12s 4s/step - loss: 9.5356e-05 - accuracy: 1.0000 - val_loss: 0.0734 - val_accuracy: 0.9444\n",
      "Epoch 46/100\n",
      "3/3 [==============================] - 12s 4s/step - loss: 7.0707e-05 - accuracy: 1.0000 - val_loss: 0.0708 - val_accuracy: 1.0000\n",
      "Epoch 47/100\n",
      "3/3 [==============================] - 12s 4s/step - loss: 6.3173e-05 - accuracy: 1.0000 - val_loss: 0.0752 - val_accuracy: 0.9444\n",
      "Epoch 48/100\n",
      "3/3 [==============================] - 12s 4s/step - loss: 4.6055e-05 - accuracy: 1.0000 - val_loss: 0.0714 - val_accuracy: 0.9444\n",
      "Epoch 49/100\n",
      "3/3 [==============================] - 12s 4s/step - loss: 3.7300e-05 - accuracy: 1.0000 - val_loss: 0.0742 - val_accuracy: 0.9444\n",
      "Epoch 50/100\n",
      "3/3 [==============================] - 12s 4s/step - loss: 4.1260e-05 - accuracy: 1.0000 - val_loss: 0.0702 - val_accuracy: 0.9444\n",
      "Epoch 51/100\n",
      "3/3 [==============================] - 12s 4s/step - loss: 3.1949e-05 - accuracy: 1.0000 - val_loss: 0.0711 - val_accuracy: 0.9444\n",
      "Epoch 52/100\n",
      "3/3 [==============================] - 12s 4s/step - loss: 2.8946e-05 - accuracy: 1.0000 - val_loss: 0.0693 - val_accuracy: 1.0000\n",
      "Epoch 53/100\n",
      "3/3 [==============================] - 12s 4s/step - loss: 2.6465e-05 - accuracy: 1.0000 - val_loss: 0.0705 - val_accuracy: 1.0000\n",
      "Epoch 54/100\n",
      "3/3 [==============================] - 12s 4s/step - loss: 1.9502e-05 - accuracy: 1.0000 - val_loss: 0.0713 - val_accuracy: 0.9444\n",
      "Epoch 55/100\n",
      "3/3 [==============================] - 12s 4s/step - loss: 1.8299e-05 - accuracy: 1.0000 - val_loss: 0.0697 - val_accuracy: 1.0000\n",
      "Epoch 56/100\n",
      "3/3 [==============================] - 12s 4s/step - loss: 1.5370e-05 - accuracy: 1.0000 - val_loss: 0.0761 - val_accuracy: 0.9444\n",
      "Epoch 57/100\n",
      "3/3 [==============================] - 12s 4s/step - loss: 2.0222e-05 - accuracy: 1.0000 - val_loss: 0.0661 - val_accuracy: 0.9444\n",
      "Epoch 58/100\n",
      "3/3 [==============================] - 12s 4s/step - loss: 1.0060e-05 - accuracy: 1.0000 - val_loss: 0.0680 - val_accuracy: 0.9444\n"
     ]
    },
    {
     "name": "stdout",
     "output_type": "stream",
     "text": [
      "Epoch 59/100\n",
      "3/3 [==============================] - 12s 4s/step - loss: 8.3667e-06 - accuracy: 1.0000 - val_loss: 0.0697 - val_accuracy: 0.9444\n",
      "Epoch 60/100\n",
      "3/3 [==============================] - 12s 4s/step - loss: 8.4888e-06 - accuracy: 1.0000 - val_loss: 0.0702 - val_accuracy: 0.9444\n",
      "Epoch 61/100\n",
      "3/3 [==============================] - 12s 4s/step - loss: 7.6342e-06 - accuracy: 1.0000 - val_loss: 0.0680 - val_accuracy: 1.0000\n",
      "Epoch 62/100\n",
      "3/3 [==============================] - 12s 4s/step - loss: 5.7283e-06 - accuracy: 1.0000 - val_loss: 0.0705 - val_accuracy: 0.9444\n",
      "Epoch 63/100\n",
      "3/3 [==============================] - 12s 4s/step - loss: 5.4864e-06 - accuracy: 1.0000 - val_loss: 0.0723 - val_accuracy: 0.9444\n",
      "Epoch 64/100\n",
      "3/3 [==============================] - 12s 4s/step - loss: 4.5777e-06 - accuracy: 1.0000 - val_loss: 0.0684 - val_accuracy: 0.9444\n",
      "Epoch 65/100\n",
      "3/3 [==============================] - 12s 4s/step - loss: 4.0520e-06 - accuracy: 1.0000 - val_loss: 0.0744 - val_accuracy: 0.9444\n",
      "Epoch 66/100\n",
      "3/3 [==============================] - 12s 4s/step - loss: 3.0838e-06 - accuracy: 1.0000 - val_loss: 0.0686 - val_accuracy: 1.0000\n",
      "Epoch 67/100\n",
      "3/3 [==============================] - 12s 4s/step - loss: 2.8037e-06 - accuracy: 1.0000 - val_loss: 0.0728 - val_accuracy: 0.9444\n",
      "Epoch 68/100\n",
      "3/3 [==============================] - 12s 4s/step - loss: 3.4333e-06 - accuracy: 1.0000 - val_loss: 0.0732 - val_accuracy: 0.9444\n",
      "Epoch 69/100\n",
      "3/3 [==============================] - 12s 4s/step - loss: 1.8504e-06 - accuracy: 1.0000 - val_loss: 0.0706 - val_accuracy: 0.9444\n",
      "Epoch 70/100\n",
      "3/3 [==============================] - 12s 4s/step - loss: 2.1925e-06 - accuracy: 1.0000 - val_loss: 0.0727 - val_accuracy: 0.9444\n",
      "Epoch 71/100\n",
      "3/3 [==============================] - 12s 4s/step - loss: 1.6681e-06 - accuracy: 1.0000 - val_loss: 0.0834 - val_accuracy: 0.9444\n",
      "Epoch 72/100\n",
      "3/3 [==============================] - 13s 4s/step - loss: 2.7305e-06 - accuracy: 1.0000 - val_loss: 0.0804 - val_accuracy: 0.9444\n",
      "Epoch 00072: early stopping\n"
     ]
    }
   ],
   "source": [
    "# fit the model\n",
    "history = model.fit(\n",
    "  train_x,\n",
    "  train_y,\n",
    "  validation_data=(val_x,val_y),\n",
    "  epochs=100,\n",
    "  callbacks=[early_stop],\n",
    "  batch_size=50,shuffle=True)\n",
    "\n",
    "model.save_weights('VGG_first_try.h5')\n",
    "model.save(\"VGG19.h5\")"
   ]
  },
  {
   "cell_type": "code",
   "execution_count": 20,
   "id": "238f43c4",
   "metadata": {},
   "outputs": [
    {
     "data": {
      "image/png": "[encoded data removed]",
      "text/plain": [
       "<Figure size 432x288 with 1 Axes>"
      ]
     },
     "metadata": {
      "needs_background": "light"
     },
     "output_type": "display_data"
    }
   ],
   "source": [
    "# accuracies\n",
    "\n",
    "plt.plot(history.history['accuracy'], label='train acc')\n",
    "\n",
    "plt.plot(history.history['val_accuracy'], label='val acc')\n",
    "\n",
    "plt.legend()\n",
    "\n",
    "plt.savefig('vgg-acc-rps-1.png')\n",
    "\n",
    "plt.show()"
   ]
  },
  {
   "cell_type": "code",
   "execution_count": 21,
   "id": "e90c9657",
   "metadata": {},
   "outputs": [
    {
     "data": {
      "image/png": "[encoded data removed]",
      "text/plain": [
       "<Figure size 432x288 with 1 Axes>"
      ]
     },
     "metadata": {
      "needs_background": "light"
     },
     "output_type": "display_data"
    }
   ],
   "source": [
    "# loss\n",
    "plt.plot(history.history['loss'], label='train loss')\n",
    "plt.plot(history.history['val_loss'], label='val loss')\n",
    "plt.legend()\n",
    "plt.savefig('vgg-loss-rps-1.png')\n",
    "plt.show()"
   ]
  },
  {
   "cell_type": "markdown",
   "id": "4851d209",
   "metadata": {},
   "source": [
    "model building - CNN"
   ]
  },
  {
   "cell_type": "code",
   "execution_count": null,
   "id": "92b18da1",
   "metadata": {},
   "outputs": [],
   "source": [
    "model = Sequential()\n",
    "model.add(Conv2D(32, (3, 3), input_shape=train_x.shape[1:]))\n",
    "model.add(Activation('relu'))\n",
    "model.add(MaxPooling2D(pool_size=(2, 2)))\n",
    "\n",
    "model.add(Conv2D(32, (3, 3)))\n",
    "model.add(Activation('relu'))\n",
    "model.add(MaxPooling2D(pool_size=(2, 2)))\n",
    "\n",
    "model.add(Conv2D(64, (3, 3)))\n",
    "model.add(Activation('relu'))\n",
    "model.add(MaxPooling2D(pool_size=(2, 2)))"
   ]
  },
  {
   "cell_type": "code",
   "execution_count": null,
   "id": "41c19f6c",
   "metadata": {},
   "outputs": [],
   "source": [
    "model.add(Flatten())  # 이전 CNN 레이어에서 나온 3차원 배열은 1차원으로 뽑아줍니다\n",
    "model.add(Dense(64))\n",
    "model.add(Activation('relu'))\n",
    "model.add(Dropout(0.5))\n",
    "model.add(Dense(1))\n",
    "model.add(Activation('sigmoid'))\n",
    "\n",
    "model.compile(\n",
    "  loss='binary_crossentropy',\n",
    "  optimizer=\"rmsprop\",\n",
    "  metrics=['accuracy']\n",
    ")"
   ]
  },
  {
   "cell_type": "code",
   "execution_count": null,
   "id": "7b481bfd",
   "metadata": {},
   "outputs": [],
   "source": [
    "# view the structure of the model\n",
    "model.summary()"
   ]
  },
  {
   "cell_type": "code",
   "execution_count": null,
   "id": "38cd5b67",
   "metadata": {},
   "outputs": [],
   "source": [
    "from tensorflow.keras.callbacks import EarlyStopping\n",
    "early_stop=EarlyStopping(monitor='val_loss',mode='min',verbose=1,patience=20)\n",
    "#Early stopping to avoid overfitting of model"
   ]
  },
  {
   "cell_type": "code",
   "execution_count": null,
   "id": "92e6eb91",
   "metadata": {},
   "outputs": [],
   "source": [
    "# fit the model\n",
    "batch_size=50\n",
    "hist = model.fit(\n",
    "    train_x,\n",
    "    train_y,\n",
    "    validation_data=(val_x,val_y),\n",
    "    epochs=100,\n",
    "    callbacks=[early_stop], \n",
    "    batch_size=50,\n",
    "    shuffle=True)\n",
    "\n",
    "model.save_weights('CNN_first_try.h5')  # 많은 시간을 들여 학습한 모델인 만큼, 학습 후에는 꼭 모델을 저장해줍시다."
   ]
  },
  {
   "cell_type": "code",
   "execution_count": null,
   "id": "2834cbd4",
   "metadata": {},
   "outputs": [],
   "source": [
    "# accuracies\n",
    "\n",
    "plt.plot(hist.history['accuracy'], label='train acc')\n",
    "\n",
    "plt.plot(hist.history['val_accuracy'], label='val acc')\n",
    "\n",
    "plt.legend()\n",
    "\n",
    "plt.savefig('CNN-acc-rps-1.png')\n",
    "\n",
    "plt.show()"
   ]
  },
  {
   "cell_type": "code",
   "execution_count": null,
   "id": "ada0ec5c",
   "metadata": {},
   "outputs": [],
   "source": [
    "# loss\n",
    "plt.plot(hist.history['loss'], label='train loss')\n",
    "plt.plot(hist.history['val_loss'], label='val loss')\n",
    "plt.legend()\n",
    "plt.savefig('CNN-loss-rps-1.png')\n",
    "plt.show()"
   ]
  },
  {
   "cell_type": "code",
   "execution_count": null,
   "id": "ae0ff1a5",
   "metadata": {},
   "outputs": [],
   "source": []
  }
 ],
 "metadata": {
  "kernelspec": {
   "display_name": "Pytorch",
   "language": "python",
   "name": "pytorch"
  },
  "language_info": {
   "codemirror_mode": {
    "name": "ipython",
    "version": 3
   },
   "file_extension": ".py",
   "mimetype": "text/x-python",
   "name": "python",
   "nbconvert_exporter": "python",
   "pygments_lexer": "ipython3",
   "version": "3.7.12"
  }
 },
 "nbformat": 4,
 "nbformat_minor": 5
}
