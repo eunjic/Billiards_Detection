{
 "cells": [
  {
   "cell_type": "code",
   "execution_count": 1,
   "id": "e85b705e",
   "metadata": {},
   "outputs": [],
   "source": [
    "from tensorflow.keras.applications.vgg19 import VGG19, decode_predictions,preprocess_input\n",
    "from tensorflow.keras.preprocessing import image\n",
    "from tensorflow.keras.models import Model\n",
    "import matplotlib.pyplot as plt\n",
    "import numpy as np\n",
    "import pandas as pd\n",
    "import tensorflow as tf\n",
    " \n",
    "from numpy import argmax\n",
    "import cv2\n",
    "import os\n",
    "import json\n",
    "import shutil\n",
    "  \n",
    "import os.path\n",
    "from moviepy.editor import *\n",
    "from pytube import YouTube\n",
    "import math\n",
    "from pytube import Playlist\n",
    "\n",
    "model = tf.keras.models.load_model('VGG19.h5')\n",
    "\n",
    "#점과 점사이 유클리드 거리 함수 정의\n",
    "def distance(x1, y1, x2, y2):\n",
    "    result = math.sqrt( math.pow(x1 - x2, 2) + math.pow(y1 - y2, 2))\n",
    "    return result\n"
   ]
  },
  {
   "cell_type": "code",
   "execution_count": 2,
   "id": "67a8b350",
   "metadata": {},
   "outputs": [
    {
     "name": "stdout",
     "output_type": "stream",
     "text": [
      "관심 영역 좌표 찾기\n",
      "roi =  (293, 182, 718, 359)\n",
      "026video open\n",
      "Moviepy - Building video C:/Users/iai/Desktop/video_extraction/outputs/026/26/26.mp4.\n",
      "Moviepy - Writing video C:/Users/iai/Desktop/video_extraction/outputs/026/26/26.mp4\n",
      "\n"
     ]
    },
    {
     "name": "stderr",
     "output_type": "stream",
     "text": [
      "                                                                                                                       \r"
     ]
    },
    {
     "name": "stdout",
     "output_type": "stream",
     "text": [
      "Moviepy - Done !\n",
      "Moviepy - video ready C:/Users/iai/Desktop/video_extraction/outputs/026/26/26.mp4\n",
      "Moviepy - Building video C:/Users/iai/Desktop/video_extraction/outputs/026/27/27.mp4.\n",
      "Moviepy - Writing video C:/Users/iai/Desktop/video_extraction/outputs/026/27/27.mp4\n",
      "\n"
     ]
    },
    {
     "name": "stderr",
     "output_type": "stream",
     "text": [
      "                                                                                                                       \r"
     ]
    },
    {
     "name": "stdout",
     "output_type": "stream",
     "text": [
      "Moviepy - Done !\n",
      "Moviepy - video ready C:/Users/iai/Desktop/video_extraction/outputs/026/27/27.mp4\n",
      "Moviepy - Building video C:/Users/iai/Desktop/video_extraction/outputs/026/28/28.mp4.\n",
      "Moviepy - Writing video C:/Users/iai/Desktop/video_extraction/outputs/026/28/28.mp4\n",
      "\n"
     ]
    },
    {
     "name": "stderr",
     "output_type": "stream",
     "text": [
      "                                                                                                                       \r"
     ]
    },
    {
     "name": "stdout",
     "output_type": "stream",
     "text": [
      "Moviepy - Done !\n",
      "Moviepy - video ready C:/Users/iai/Desktop/video_extraction/outputs/026/28/28.mp4\n",
      "Moviepy - Building video C:/Users/iai/Desktop/video_extraction/outputs/026/29/29.mp4.\n",
      "Moviepy - Writing video C:/Users/iai/Desktop/video_extraction/outputs/026/29/29.mp4\n",
      "\n"
     ]
    },
    {
     "name": "stderr",
     "output_type": "stream",
     "text": [
      "                                                                                                                       \r"
     ]
    },
    {
     "name": "stdout",
     "output_type": "stream",
     "text": [
      "Moviepy - Done !\n",
      "Moviepy - video ready C:/Users/iai/Desktop/video_extraction/outputs/026/29/29.mp4\n",
      "Moviepy - Building video C:/Users/iai/Desktop/video_extraction/outputs/026/30/30.mp4.\n",
      "Moviepy - Writing video C:/Users/iai/Desktop/video_extraction/outputs/026/30/30.mp4\n",
      "\n"
     ]
    },
    {
     "name": "stderr",
     "output_type": "stream",
     "text": [
      "                                                                                                                       \r"
     ]
    },
    {
     "name": "stdout",
     "output_type": "stream",
     "text": [
      "Moviepy - Done !\n",
      "Moviepy - video ready C:/Users/iai/Desktop/video_extraction/outputs/026/30/30.mp4\n",
      "Moviepy - Building video C:/Users/iai/Desktop/video_extraction/outputs/026/31/31.mp4.\n",
      "Moviepy - Writing video C:/Users/iai/Desktop/video_extraction/outputs/026/31/31.mp4\n",
      "\n"
     ]
    },
    {
     "name": "stderr",
     "output_type": "stream",
     "text": [
      "                                                                                                                       \r"
     ]
    },
    {
     "name": "stdout",
     "output_type": "stream",
     "text": [
      "Moviepy - Done !\n",
      "Moviepy - video ready C:/Users/iai/Desktop/video_extraction/outputs/026/31/31.mp4\n",
      "Moviepy - Building video C:/Users/iai/Desktop/video_extraction/outputs/026/32/32.mp4.\n",
      "Moviepy - Writing video C:/Users/iai/Desktop/video_extraction/outputs/026/32/32.mp4\n",
      "\n"
     ]
    },
    {
     "name": "stderr",
     "output_type": "stream",
     "text": [
      "                                                                                                                       \r"
     ]
    },
    {
     "name": "stdout",
     "output_type": "stream",
     "text": [
      "Moviepy - Done !\n",
      "Moviepy - video ready C:/Users/iai/Desktop/video_extraction/outputs/026/32/32.mp4\n",
      "Moviepy - Building video C:/Users/iai/Desktop/video_extraction/outputs/026/33/33.mp4.\n",
      "Moviepy - Writing video C:/Users/iai/Desktop/video_extraction/outputs/026/33/33.mp4\n",
      "\n"
     ]
    },
    {
     "name": "stderr",
     "output_type": "stream",
     "text": [
      "                                                                                                                       \r"
     ]
    },
    {
     "name": "stdout",
     "output_type": "stream",
     "text": [
      "Moviepy - Done !\n",
      "Moviepy - video ready C:/Users/iai/Desktop/video_extraction/outputs/026/33/33.mp4\n",
      "Moviepy - Building video C:/Users/iai/Desktop/video_extraction/outputs/026/34/34.mp4.\n",
      "Moviepy - Writing video C:/Users/iai/Desktop/video_extraction/outputs/026/34/34.mp4\n",
      "\n"
     ]
    },
    {
     "name": "stderr",
     "output_type": "stream",
     "text": [
      "                                                                                                                       \r"
     ]
    },
    {
     "name": "stdout",
     "output_type": "stream",
     "text": [
      "Moviepy - Done !\n",
      "Moviepy - video ready C:/Users/iai/Desktop/video_extraction/outputs/026/34/34.mp4\n",
      "Moviepy - Building video C:/Users/iai/Desktop/video_extraction/outputs/026/35/35.mp4.\n",
      "Moviepy - Writing video C:/Users/iai/Desktop/video_extraction/outputs/026/35/35.mp4\n",
      "\n"
     ]
    },
    {
     "name": "stderr",
     "output_type": "stream",
     "text": [
      "                                                                                                                       \r"
     ]
    },
    {
     "name": "stdout",
     "output_type": "stream",
     "text": [
      "Moviepy - Done !\n",
      "Moviepy - video ready C:/Users/iai/Desktop/video_extraction/outputs/026/35/35.mp4\n",
      "Moviepy - Building video C:/Users/iai/Desktop/video_extraction/outputs/026/36/36.mp4.\n",
      "Moviepy - Writing video C:/Users/iai/Desktop/video_extraction/outputs/026/36/36.mp4\n",
      "\n"
     ]
    },
    {
     "name": "stderr",
     "output_type": "stream",
     "text": [
      "                                                                                                                       \r"
     ]
    },
    {
     "name": "stdout",
     "output_type": "stream",
     "text": [
      "Moviepy - Done !\n",
      "Moviepy - video ready C:/Users/iai/Desktop/video_extraction/outputs/026/36/36.mp4\n",
      "Moviepy - Building video C:/Users/iai/Desktop/video_extraction/outputs/026/37/37.mp4.\n",
      "Moviepy - Writing video C:/Users/iai/Desktop/video_extraction/outputs/026/37/37.mp4\n",
      "\n"
     ]
    },
    {
     "name": "stderr",
     "output_type": "stream",
     "text": [
      "                                                                                                                       \r"
     ]
    },
    {
     "name": "stdout",
     "output_type": "stream",
     "text": [
      "Moviepy - Done !\n",
      "Moviepy - video ready C:/Users/iai/Desktop/video_extraction/outputs/026/37/37.mp4\n",
      "Moviepy - Building video C:/Users/iai/Desktop/video_extraction/outputs/026/38/38.mp4.\n",
      "Moviepy - Writing video C:/Users/iai/Desktop/video_extraction/outputs/026/38/38.mp4\n",
      "\n"
     ]
    },
    {
     "name": "stderr",
     "output_type": "stream",
     "text": [
      "                                                                                                                       \r"
     ]
    },
    {
     "name": "stdout",
     "output_type": "stream",
     "text": [
      "Moviepy - Done !\n",
      "Moviepy - video ready C:/Users/iai/Desktop/video_extraction/outputs/026/38/38.mp4\n",
      "Moviepy - Building video C:/Users/iai/Desktop/video_extraction/outputs/026/39/39.mp4.\n",
      "Moviepy - Writing video C:/Users/iai/Desktop/video_extraction/outputs/026/39/39.mp4\n",
      "\n"
     ]
    },
    {
     "name": "stderr",
     "output_type": "stream",
     "text": [
      "                                                                                                                       \r"
     ]
    },
    {
     "name": "stdout",
     "output_type": "stream",
     "text": [
      "Moviepy - Done !\n",
      "Moviepy - video ready C:/Users/iai/Desktop/video_extraction/outputs/026/39/39.mp4\n",
      "Moviepy - Building video C:/Users/iai/Desktop/video_extraction/outputs/026/40/40.mp4.\n",
      "Moviepy - Writing video C:/Users/iai/Desktop/video_extraction/outputs/026/40/40.mp4\n",
      "\n"
     ]
    },
    {
     "name": "stderr",
     "output_type": "stream",
     "text": [
      "                                                                                                                       \r"
     ]
    },
    {
     "name": "stdout",
     "output_type": "stream",
     "text": [
      "Moviepy - Done !\n",
      "Moviepy - video ready C:/Users/iai/Desktop/video_extraction/outputs/026/40/40.mp4\n",
      "Moviepy - Building video C:/Users/iai/Desktop/video_extraction/outputs/026/41/41.mp4.\n",
      "Moviepy - Writing video C:/Users/iai/Desktop/video_extraction/outputs/026/41/41.mp4\n",
      "\n"
     ]
    },
    {
     "name": "stderr",
     "output_type": "stream",
     "text": [
      "                                                                                                                       \r"
     ]
    },
    {
     "name": "stdout",
     "output_type": "stream",
     "text": [
      "Moviepy - Done !\n",
      "Moviepy - video ready C:/Users/iai/Desktop/video_extraction/outputs/026/41/41.mp4\n",
      "Moviepy - Building video C:/Users/iai/Desktop/video_extraction/outputs/026/42/42.mp4.\n",
      "Moviepy - Writing video C:/Users/iai/Desktop/video_extraction/outputs/026/42/42.mp4\n",
      "\n"
     ]
    },
    {
     "name": "stderr",
     "output_type": "stream",
     "text": [
      "                                                                                                                       \r"
     ]
    },
    {
     "name": "stdout",
     "output_type": "stream",
     "text": [
      "Moviepy - Done !\n",
      "Moviepy - video ready C:/Users/iai/Desktop/video_extraction/outputs/026/42/42.mp4\n",
      "Moviepy - Building video C:/Users/iai/Desktop/video_extraction/outputs/026/43/43.mp4.\n",
      "Moviepy - Writing video C:/Users/iai/Desktop/video_extraction/outputs/026/43/43.mp4\n",
      "\n"
     ]
    },
    {
     "name": "stderr",
     "output_type": "stream",
     "text": [
      "                                                                                                                       \r"
     ]
    },
    {
     "name": "stdout",
     "output_type": "stream",
     "text": [
      "Moviepy - Done !\n",
      "Moviepy - video ready C:/Users/iai/Desktop/video_extraction/outputs/026/43/43.mp4\n",
      "Moviepy - Building video C:/Users/iai/Desktop/video_extraction/outputs/026/44/44.mp4.\n",
      "Moviepy - Writing video C:/Users/iai/Desktop/video_extraction/outputs/026/44/44.mp4\n",
      "\n"
     ]
    },
    {
     "name": "stderr",
     "output_type": "stream",
     "text": [
      "                                                                                                                       \r"
     ]
    },
    {
     "name": "stdout",
     "output_type": "stream",
     "text": [
      "Moviepy - Done !\n",
      "Moviepy - video ready C:/Users/iai/Desktop/video_extraction/outputs/026/44/44.mp4\n",
      "Moviepy - Building video C:/Users/iai/Desktop/video_extraction/outputs/026/45/45.mp4.\n",
      "Moviepy - Writing video C:/Users/iai/Desktop/video_extraction/outputs/026/45/45.mp4\n",
      "\n"
     ]
    },
    {
     "name": "stderr",
     "output_type": "stream",
     "text": [
      "                                                                                                                       \r"
     ]
    },
    {
     "name": "stdout",
     "output_type": "stream",
     "text": [
      "Moviepy - Done !\n",
      "Moviepy - video ready C:/Users/iai/Desktop/video_extraction/outputs/026/45/45.mp4\n",
      "Moviepy - Building video C:/Users/iai/Desktop/video_extraction/outputs/026/46/46.mp4.\n",
      "Moviepy - Writing video C:/Users/iai/Desktop/video_extraction/outputs/026/46/46.mp4\n",
      "\n"
     ]
    },
    {
     "name": "stderr",
     "output_type": "stream",
     "text": [
      "                                                                                                                       \r"
     ]
    },
    {
     "name": "stdout",
     "output_type": "stream",
     "text": [
      "Moviepy - Done !\n",
      "Moviepy - video ready C:/Users/iai/Desktop/video_extraction/outputs/026/46/46.mp4\n",
      "Moviepy - Building video C:/Users/iai/Desktop/video_extraction/outputs/026/47/47.mp4.\n",
      "Moviepy - Writing video C:/Users/iai/Desktop/video_extraction/outputs/026/47/47.mp4\n",
      "\n"
     ]
    },
    {
     "name": "stderr",
     "output_type": "stream",
     "text": [
      "                                                                                                                       \r"
     ]
    },
    {
     "name": "stdout",
     "output_type": "stream",
     "text": [
      "Moviepy - Done !\n",
      "Moviepy - video ready C:/Users/iai/Desktop/video_extraction/outputs/026/47/47.mp4\n",
      "Moviepy - Building video C:/Users/iai/Desktop/video_extraction/outputs/026/48/48.mp4.\n",
      "Moviepy - Writing video C:/Users/iai/Desktop/video_extraction/outputs/026/48/48.mp4\n",
      "\n"
     ]
    },
    {
     "name": "stderr",
     "output_type": "stream",
     "text": [
      "                                                                                                                       \r"
     ]
    },
    {
     "name": "stdout",
     "output_type": "stream",
     "text": [
      "Moviepy - Done !\n",
      "Moviepy - video ready C:/Users/iai/Desktop/video_extraction/outputs/026/48/48.mp4\n",
      "Moviepy - Building video C:/Users/iai/Desktop/video_extraction/outputs/026/49/49.mp4.\n",
      "Moviepy - Writing video C:/Users/iai/Desktop/video_extraction/outputs/026/49/49.mp4\n",
      "\n"
     ]
    },
    {
     "name": "stderr",
     "output_type": "stream",
     "text": [
      "                                                                                                                       \r"
     ]
    },
    {
     "name": "stdout",
     "output_type": "stream",
     "text": [
      "Moviepy - Done !\n",
      "Moviepy - video ready C:/Users/iai/Desktop/video_extraction/outputs/026/49/49.mp4\n",
      "Moviepy - Building video C:/Users/iai/Desktop/video_extraction/outputs/026/50/50.mp4.\n",
      "Moviepy - Writing video C:/Users/iai/Desktop/video_extraction/outputs/026/50/50.mp4\n",
      "\n"
     ]
    },
    {
     "name": "stderr",
     "output_type": "stream",
     "text": [
      "                                                                                                                       \r"
     ]
    },
    {
     "name": "stdout",
     "output_type": "stream",
     "text": [
      "Moviepy - Done !\n",
      "Moviepy - video ready C:/Users/iai/Desktop/video_extraction/outputs/026/50/50.mp4\n",
      "Moviepy - Building video C:/Users/iai/Desktop/video_extraction/outputs/026/51/51.mp4.\n",
      "Moviepy - Writing video C:/Users/iai/Desktop/video_extraction/outputs/026/51/51.mp4\n",
      "\n"
     ]
    },
    {
     "name": "stderr",
     "output_type": "stream",
     "text": [
      "                                                                                                                       \r"
     ]
    },
    {
     "name": "stdout",
     "output_type": "stream",
     "text": [
      "Moviepy - Done !\n",
      "Moviepy - video ready C:/Users/iai/Desktop/video_extraction/outputs/026/51/51.mp4\n",
      "Moviepy - Building video C:/Users/iai/Desktop/video_extraction/outputs/026/52/52.mp4.\n",
      "Moviepy - Writing video C:/Users/iai/Desktop/video_extraction/outputs/026/52/52.mp4\n",
      "\n"
     ]
    },
    {
     "name": "stderr",
     "output_type": "stream",
     "text": [
      "                                                                                                                       \r"
     ]
    },
    {
     "name": "stdout",
     "output_type": "stream",
     "text": [
      "Moviepy - Done !\n",
      "Moviepy - video ready C:/Users/iai/Desktop/video_extraction/outputs/026/52/52.mp4\n",
      "Moviepy - Building video C:/Users/iai/Desktop/video_extraction/outputs/026/53/53.mp4.\n",
      "Moviepy - Writing video C:/Users/iai/Desktop/video_extraction/outputs/026/53/53.mp4\n",
      "\n"
     ]
    },
    {
     "name": "stderr",
     "output_type": "stream",
     "text": [
      "                                                                                                                       \r"
     ]
    },
    {
     "name": "stdout",
     "output_type": "stream",
     "text": [
      "Moviepy - Done !\n",
      "Moviepy - video ready C:/Users/iai/Desktop/video_extraction/outputs/026/53/53.mp4\n",
      "Moviepy - Building video C:/Users/iai/Desktop/video_extraction/outputs/026/54/54.mp4.\n",
      "Moviepy - Writing video C:/Users/iai/Desktop/video_extraction/outputs/026/54/54.mp4\n",
      "\n"
     ]
    },
    {
     "name": "stderr",
     "output_type": "stream",
     "text": [
      "                                                                                                                       \r"
     ]
    },
    {
     "name": "stdout",
     "output_type": "stream",
     "text": [
      "Moviepy - Done !\n",
      "Moviepy - video ready C:/Users/iai/Desktop/video_extraction/outputs/026/54/54.mp4\n",
      "Moviepy - Building video C:/Users/iai/Desktop/video_extraction/outputs/026/55/55.mp4.\n",
      "Moviepy - Writing video C:/Users/iai/Desktop/video_extraction/outputs/026/55/55.mp4\n",
      "\n"
     ]
    },
    {
     "name": "stderr",
     "output_type": "stream",
     "text": [
      "                                                                                                                       \r"
     ]
    },
    {
     "name": "stdout",
     "output_type": "stream",
     "text": [
      "Moviepy - Done !\n",
      "Moviepy - video ready C:/Users/iai/Desktop/video_extraction/outputs/026/55/55.mp4\n",
      "Moviepy - Building video C:/Users/iai/Desktop/video_extraction/outputs/026/56/56.mp4.\n",
      "Moviepy - Writing video C:/Users/iai/Desktop/video_extraction/outputs/026/56/56.mp4\n",
      "\n"
     ]
    },
    {
     "name": "stderr",
     "output_type": "stream",
     "text": [
      "                                                                                                                       \r"
     ]
    },
    {
     "name": "stdout",
     "output_type": "stream",
     "text": [
      "Moviepy - Done !\n",
      "Moviepy - video ready C:/Users/iai/Desktop/video_extraction/outputs/026/56/56.mp4\n",
      "Moviepy - Building video C:/Users/iai/Desktop/video_extraction/outputs/026/57/57.mp4.\n",
      "Moviepy - Writing video C:/Users/iai/Desktop/video_extraction/outputs/026/57/57.mp4\n",
      "\n"
     ]
    },
    {
     "name": "stderr",
     "output_type": "stream",
     "text": [
      "                                                                                                                       \r"
     ]
    },
    {
     "name": "stdout",
     "output_type": "stream",
     "text": [
      "Moviepy - Done !\n",
      "Moviepy - video ready C:/Users/iai/Desktop/video_extraction/outputs/026/57/57.mp4\n",
      "Moviepy - Building video C:/Users/iai/Desktop/video_extraction/outputs/026/58/58.mp4.\n",
      "Moviepy - Writing video C:/Users/iai/Desktop/video_extraction/outputs/026/58/58.mp4\n",
      "\n"
     ]
    },
    {
     "name": "stderr",
     "output_type": "stream",
     "text": [
      "                                                                                                                       \r"
     ]
    },
    {
     "name": "stdout",
     "output_type": "stream",
     "text": [
      "Moviepy - Done !\n",
      "Moviepy - video ready C:/Users/iai/Desktop/video_extraction/outputs/026/58/58.mp4\n",
      "Moviepy - Building video C:/Users/iai/Desktop/video_extraction/outputs/026/59/59.mp4.\n",
      "Moviepy - Writing video C:/Users/iai/Desktop/video_extraction/outputs/026/59/59.mp4\n",
      "\n"
     ]
    },
    {
     "name": "stderr",
     "output_type": "stream",
     "text": [
      "                                                                                                                       \r"
     ]
    },
    {
     "name": "stdout",
     "output_type": "stream",
     "text": [
      "Moviepy - Done !\n",
      "Moviepy - video ready C:/Users/iai/Desktop/video_extraction/outputs/026/59/59.mp4\n",
      "Moviepy - Building video C:/Users/iai/Desktop/video_extraction/outputs/026/60/60.mp4.\n",
      "Moviepy - Writing video C:/Users/iai/Desktop/video_extraction/outputs/026/60/60.mp4\n",
      "\n"
     ]
    },
    {
     "name": "stderr",
     "output_type": "stream",
     "text": [
      "                                                                                                                       \r"
     ]
    },
    {
     "name": "stdout",
     "output_type": "stream",
     "text": [
      "Moviepy - Done !\n",
      "Moviepy - video ready C:/Users/iai/Desktop/video_extraction/outputs/026/60/60.mp4\n",
      "026 video finish\n"
     ]
    }
   ],
   "source": [
    "#한 플레이리스트당 같은 관심영역 \n",
    "#한 플레이리스트의 가장 처음 video_count으로 변경\n",
    "video_count = 26\n",
    "DOWNLOAD_FOLDER = \"C:/Users/iai/Desktop/video_extraction/sample_video\"\n",
    "for playlist_name in os.listdir(DOWNLOAD_FOLDER): \n",
    "    PLAYLIST_FOLDER = DOWNLOAD_FOLDER+ \"/\"+ playlist_name\n",
    "    \n",
    "    #플레이리스트의 좌표 알기 위해 딱 하나의 비디오만!\n",
    "    sample_video = PLAYLIST_FOLDER+ \"/{:03d}.mp4\".format(video_count)\n",
    "    \n",
    "    # 임시 폴더 만들기\n",
    "    try:\n",
    "        if not os.path.exists(\"C:/Users/iai/Desktop/video_extraction/video_frame/garbage\"):\n",
    "            os.makedirs(\"C:/Users/iai/Desktop/video_extraction/video_frame/garbage\")\n",
    "            \n",
    "    except OSError:\n",
    "        print ('Error: Creating directory. ' +  \"C:/Users/iai/Desktop/video_extraction/video_frame/garbage\")\n",
    "          \n",
    "#한 동영상에 대해 관심영역 알아내기\n",
    "cap = cv2.VideoCapture(sample_video)\n",
    "if (cap.isOpened()):\n",
    "    print(\"관심 영역 좌표 찾기\")\n",
    "    \n",
    "while (cap.isOpened()):\n",
    "    ret, frame = cap.read()\n",
    "    #이 while문 안에서는 한프레임에 해당\n",
    "\n",
    "    if (int(cap.get(1)) % 100 == 0):\n",
    "        garbage_count = 0\n",
    "        file_path = \"C:/Users/iai/Desktop/video_extraction/video_frame/garbage\"\n",
    "        img_path = file_path+\"/{:02d}.png\".format(garbage_count)\n",
    "\n",
    "        cv2.imwrite(img_path, frame)\n",
    "\n",
    "        #이미지 저장 완료\n",
    "\n",
    "        #무조건 이미지 저장 후 경로가 있어야 이미지 전처리 가능\n",
    "        img = image.load_img(img_path,target_size=(224,224))\n",
    "        img_tensor = image.img_to_array(img, data_format=None, dtype=None)\n",
    "        img_tensor = np.expand_dims(img_tensor,axis=0) \n",
    "        # 이미지를 4D 텐서로 변경, Batch_size로서 Training하였으므로 Dimension을 늘려야 한다.\n",
    "        img_tensor = preprocess_input(img_tensor)\n",
    "\n",
    "        #이미지 전처리 완료 \n",
    "        #일단 저장된 상태\n",
    "\n",
    "        predict = model.predict(img_tensor)\n",
    "        if (predict[0][0] == 1.0):\n",
    "            #cv2.namedWindow('roi', flags=cv2.WINDOW_NORMAL)\n",
    "            src = cv2.imread(img_path)\n",
    "            #원본 이미지를 띄우고, 마우스 이벤트 처리도 도와준다.\n",
    "            roi = cv2.selectROI('roi',src)\n",
    "\n",
    "            #(x 시작 지점, y 시작 지점, x축 드래그 한 길이, y축 드래그 한 길이)\n",
    "            print('roi = ', roi)\n",
    "\n",
    "            #원본 주소를 imread 한 것에 crop하기 \n",
    "            roi_image = src[roi[1]:roi[1] + roi[3],  roi[0]:roi[0] + roi[2]]\n",
    "\n",
    "            #보간법\n",
    "            roi_image = cv2.resize(roi_image, dsize=(1224, 612), interpolation=cv2.INTER_AREA)\n",
    "\n",
    "            #cv2.imshow('roi', roi_image)\n",
    "            cv2.waitKey()\n",
    "            cv2.destroyAllWindows()\n",
    "\n",
    "            # 파란색 당구대 천 영역만 잡기 (내경으로 resize)\n",
    "\n",
    "            #첫번째로 top-view 프레임까지만 저장하고 while문 break 하기\n",
    "            break;\n",
    "\n",
    "#하나의 영상 끝나면\n",
    "cap.release()\n",
    "shutil.rmtree(\"C:/Users/iai/Desktop/video_extraction/video_frame/garbage\")       \n",
    "#하나의 플레이리스트 끝!!\n",
    "        \n",
    "for video_name in os.listdir(PLAYLIST_FOLDER):\n",
    "    #video_name은 001,002 등등 전체 비디오 개수 기준으로 (현재 5부터 시작)\n",
    "    video = PLAYLIST_FOLDER +\"/\"+ video_name  \n",
    "    \n",
    "    \n",
    "    #한 동영상 전체 프레임 담을 폴더 없으면 만들기\n",
    "    try:\n",
    "        if not os.path.exists(\"C:/Users/iai/Desktop/video_extraction/video_frame/\"+video_name[:-4]):\n",
    "            os.makedirs(\"C:/Users/iai/Desktop/video_extraction/video_frame/\"+video_name[:-4])\n",
    "    except OSError:\n",
    "        print ('Error: Creating directory. ' +  \"C:/Users/iai/Desktop/video_extraction/video_frame/\"+video_name[:-4])\n",
    "   \n",
    "   \n",
    "    #한 동영상의 여러 좌표 json 담을 폴더 없으면 만들기! --> outputs 안에 하나의 폴더 안에 json_file / 영상\n",
    "            \n",
    "    try:\n",
    "        if not os.path.exists(\"C:/Users/iai/Desktop/video_extraction/outputs/\"+video_name[:-4]):\n",
    "            os.makedirs(\"C:/Users/iai/Desktop/video_extraction/outputs/\"+video_name[:-4])\n",
    "    except OSError:\n",
    "        print ('Error: Creating directory. ' +  \"C:/Users/iai/Desktop/video_extraction/outputs/\"+video_name[:-4])\n",
    "               \n",
    "    #crop 된 top-view이미지 담을 폴더\n",
    "    try:\n",
    "        if not os.path.exists(\"C:/Users/iai/Desktop/video_extraction/video_frame/roi_image\"):\n",
    "            os.makedirs(\"C:/Users/iai/Desktop/video_extraction/video_frame/roi_image\")\n",
    "    except OSError:\n",
    "        print ('Error: Creating directory. ' +  \"C:/Users/iai/Desktop/video_extraction/video_frame/roi_image\")\n",
    "    \n",
    "\n",
    "    #한 동영상에 대해 작업 수행\n",
    "           \n",
    "    cap = cv2.VideoCapture(video)\n",
    "    fps = cap.get(cv2.CAP_PROP_FPS)\n",
    "\n",
    "    if (cap.isOpened()):\n",
    "        print(video_name[:-4]+\"video open\")\n",
    "            \n",
    "   \n",
    "    count = 0\n",
    "    json_count = 26\n",
    "    coord_list = [{\"white ball\": [0., 0.], \"yellow ball\": [0., 0.], \"red ball\": [0., 0.]}]\n",
    "    save_list = []\n",
    "    save_img_path = []\n",
    "    json_save_check = []\n",
    "\n",
    "    info_dict = {'white ball': \"?\", 'yellow ball': \"?\", 'red ball': \"?\", 'skill': \"?\"}\n",
    "    # cue_ball / 1_object_ball / 2_object_ball / skill name\n",
    "            \n",
    "           \n",
    "   \n",
    "    while (cap.isOpened()):\n",
    "        ret, frame = cap.read()\n",
    "        #이 while문 안에서는 한프레임에 해당\n",
    "               \n",
    "        #만약 frame에 아무것도 없으면\n",
    "        if (np.shape(frame) == ()):\n",
    "            print(video_name[:-4]+\" video finish\")\n",
    "            break;\n",
    "    \n",
    "        \n",
    "        #각 프레임 \n",
    "\n",
    "        file_path = \"C:/Users/iai/Desktop/video_extraction/video_frame/\"+video_name[:-4]\n",
    "        img_path = file_path+\"/{:04d}.png\".format(count)\n",
    "\n",
    "        #imwrite 하기\n",
    "        #우선은 top-view 판별을 위해 crop 보류\n",
    "        cv2.imwrite(img_path, frame)\n",
    "\n",
    "        #이미지 저장 완료\n",
    "\n",
    "        img = image.load_img(img_path,target_size=(224,224))\n",
    "        img_tensor = image.img_to_array(img, data_format=None, dtype=None)\n",
    "        img_tensor = np.expand_dims(img_tensor,axis=0) \n",
    "        img_tensor = preprocess_input(img_tensor)\n",
    "\n",
    "        #이미지 전처리 완료\n",
    "\n",
    "        predict = model.predict(img_tensor)\n",
    "        if (predict[0][0] == 1.0):\n",
    "            #판별기 통과한것들만 crop 하기\n",
    "            #count는 기존 count 그대로\n",
    "            roi_image = frame[roi[1]:roi[1] + roi[3],  roi[0]:roi[0] + roi[2]]\n",
    "\n",
    "            #보간법\n",
    "            roi_image = cv2.resize(roi_image, dsize=(1224, 612), interpolation=cv2.INTER_AREA)\n",
    "            roi_img_path = \"C:/Users/iai/Desktop/video_extraction/video_frame/roi_image/{:04d}.png\".format(count)\n",
    "\n",
    "            cv2.imwrite(roi_img_path, roi_image)\n",
    "\n",
    "            # 그중에서 detection 좌표 위치 변화 \n",
    "\n",
    "            !python C:/Users/iai/Desktop/video_extraction/YOLOX/tools/demo.py image -f C:/Users/iai/Desktop/video_extraction/YOLOX/exps/example/yolox_voc/yolox_voc_s.py -c C:/Users/iai/Desktop/video_extraction/YOLOX/best_ckpt.pth.tar --path {roi_img_path} --conf 0.25 --nms 0.45 --tsize 640 --save_result --device gpu\\n\",\n",
    "            coord = json.load(open(\"coord.json\"))\n",
    "            coord_list.append(coord)\n",
    "\n",
    "            #각 white ball, yellow ball, red ball 에 대해 값이 없으면 np.nan이라 표시하기\n",
    "            balls = [\"white ball\", \"yellow ball\" , \"red ball\"]\n",
    "\n",
    "            for ball in balls:\n",
    "                if not coord.get(ball):\n",
    "                    #만약 각 ball value 값이 없어서 false로 나오면 nan 으로 결측치 주기\n",
    "                    coord[ball] = np.nan\n",
    "\n",
    "            #앞에서 결측치 먼저 거르기\n",
    "            #detection 값이 나오지 않을 경우, 거의 대부분 움직인다. \n",
    "\n",
    "            nan_check = False\n",
    "            check_list = [coord[\"yellow ball\"], coord[\"red ball\"], coord[\"white ball\"],coord_list[-1][\"yellow ball\"], coord_list[-1][\"red ball\"], coord_list[-1][\"white ball\"]]\n",
    "\n",
    "            for elem in check_list:\n",
    "                try:\n",
    "                    if(np.isnan(elem)):\n",
    "                        # 하나라도 true면 끝내기\n",
    "                        nan_check = True\n",
    "                        break;\n",
    "                except:\n",
    "                    pass\n",
    "\n",
    "            if(nan_check):\n",
    "                coord_list.append(coord)\n",
    "                json_save_check.append(1)\n",
    "                save_list.append(coord)\n",
    "\n",
    "\n",
    "                save_img_path.append(roi_img_path)\n",
    "\n",
    "\n",
    "            #coord_list와 coord에 전부 결측치 없으면 비교하기\n",
    "            else:\n",
    "                if ((distance(coord[\"white ball\"][0], coord[\"white ball\"][0], coord_list[-1][\"white ball\"][0], coord_list[-1][\"white ball\"][1]) >= 0.1) \n",
    "                or (distance(coord[\"yellow ball\"][0], coord[\"yellow ball\"][0], coord_list[-1][\"yellow ball\"][0], coord_list[-1][\"yellow ball\"][1]) >= 0.1)\n",
    "                or (distance(coord[\"red ball\"][0], coord[\"red ball\"][0], coord_list[-1][\"red ball\"][0], coord_list[-1][\"red ball\"][1]) >= 0.1)) :\n",
    "\n",
    "                    # 아무 ball이라도 좌표값과 바로 직전 top-view 의 좌표값 차이가 0.1보다 크면, 즉 움직이면 append 해라\n",
    "                    coord_list.append(coord)\n",
    "                    json_save_check.append(1)\n",
    "                    save_list.append(coord)\n",
    "\n",
    "                    save_img_path.append(roi_img_path)\n",
    "\n",
    "\n",
    "        #여기까지가 한 프레임안에서 top-view 작업 완료\n",
    "\n",
    "        json_save_check.append(0)   \n",
    "        if (json_save_check[count] == 1):\n",
    "            json_save_check.pop()\n",
    "        #한동영상의 모든 프레임에 대해 기록하기\n",
    "\n",
    "        # 하나의 프레임에 대해 목표 이미지가 아니라면 0을 주고 만약 이미 위에서 1을 주고 뽑았다면 0준것 다시 pop하기\n",
    "        # 여기서 완전히 이번 프레임이 1인지 0인지 알 수 있다. \n",
    "\n",
    "        #이번 프레임의 count를 기준으로\n",
    "        if ((json_save_check[count-1] ==1) and (json_save_check[count]== 0)) :\n",
    "            #바로 전의 json_save_check가 1이고(바로 직전에 json에 넣었고), 모든 ball 움직이지 않을때 --> 현재 json_save_check = 0\n",
    "            #만약 save_list의 갯수가 너무 짧으면 다 clear 해주고 저장만 하지 말기\n",
    "\n",
    "            if (len(save_list) < 400) :\n",
    "                # list 초기화\n",
    "                save_list.clear()\n",
    "\n",
    "                #img 경로 리스트 초기화\n",
    "                save_img_path.clear()\n",
    "\n",
    "            else: \n",
    "\n",
    "                # 지금까지 save_list에 있던 값 ouput 폴더 안에 json/ 동영상 파일로 저장\n",
    "                try:\n",
    "                    if not os.path.exists('C:/Users/iai/Desktop/video_extraction/outputs/'+video_name[:-4] + \"/{:02d}\".format(json_count)):\n",
    "                        os.makedirs('C:/Users/iai/Desktop/video_extraction/outputs/'+video_name[:-4] + \"/{:02d}\".format(json_count))\n",
    "\n",
    "                except OSError:\n",
    "                    print ('Error: Creating directory. ' +  'C:/Users/iai/Desktop/video_extraction/outputs/'+video_name[:-4] + \"/{:02d}\".format(json_count))\n",
    "\n",
    "                #잘린 영상 하나에 대한 결과 폴더 만들기\n",
    "                json_name = 'C:/Users/iai/Desktop/video_extraction/outputs/'+video_name[:-4] + \"/{:02d}/{:02d}.json\".format(json_count, json_count)\n",
    "                result_video_name = 'C:/Users/iai/Desktop/video_extraction/outputs/'+video_name[:-4] + \"/{:02d}/{:02d}.mp4\".format(json_count, json_count)\n",
    "                info_name = 'C:/Users/iai/Desktop/video_extraction/outputs/'+video_name[:-4] + \"/{:02d}/info.json\".format(json_count)\n",
    "\n",
    "                with open(json_name, 'w', encoding=\"utf-8\") as outfile:\n",
    "                    json.dump(save_list, outfile,  ensure_ascii=False, indent=4)\n",
    "                #폴더에 json 파일 저장\n",
    "\n",
    "                with open(info_name, 'w', encoding=\"utf-8\") as outfile2:\n",
    "                    json.dump(info_dict, outfile2,  ensure_ascii=False, indent=4)\n",
    "                #폴더에 info.json 파일 저장\n",
    "\n",
    "\n",
    "                #save_img_path를 가지고 동영상 만들기\n",
    "                clip = ImageSequenceClip(save_img_path, fps=int(fps))\n",
    "                clip.write_videofile(result_video_name) \n",
    "\n",
    "\n",
    "                #만들고, json_count 올리기\n",
    "                json_count += 1\n",
    "\n",
    "                # list 초기화\n",
    "                save_list.clear()\n",
    "                #img 경로 리스트 초기화\n",
    "                save_img_path.clear()\n",
    "                \n",
    "                \n",
    "    \n",
    "    \n",
    "    \n",
    "        #폴더 내 파일개수가 5000개씩 삭제해주기\n",
    "        if (count%5000 == 0 and count != 0):\n",
    "            #프레임 담은 폴더 삭제\n",
    "            shutil.rmtree(\"C:/Users/iai/Desktop/video_extraction/video_frame/\"+video_name[:-4])\n",
    "            #삭제후, 다시 만들기\n",
    "            os.makedirs(\"C:/Users/iai/Desktop/video_extraction/video_frame/\"+video_name[:-4])\n",
    "\n",
    "\n",
    "        #모든 것들(top-view 아니어도) count\n",
    "        count += 1\n",
    "        #count는 한동영상의 모든 프레임\n",
    "        #여기까지 한 프레임 완료\n",
    "\n",
    "    #만약 동영상 끝났으면 -->  위에서 franme 없으면 break   \n",
    "    cap.release()\n",
    "    \n",
    "    #한 동영상이 끝났을 때, 프레임 담은 폴더 삭제후 다시 만들기\n",
    "    shutil.rmtree(\"C:/Users/iai/Desktop/video_extraction/video_frame/\"+video_name[:-4])\n",
    "    #crop된 프레임 중복으로 담은 폴더도 삭제\n",
    "    shutil.rmtree('C:/Users/iai/Desktop/video_extraction/video_frame/roi_image')\n",
    "    #vis_res 삭제 -->  yolox 실행시키면 어차피 vis_res 자동으로 생성된다.\n",
    "    try:\n",
    "        if os.path.exists('C:/Users/iai/Desktop/video_extraction/YOLOX_outputs/yolox_voc_s/vis_res'):\n",
    "            shutil.rmtree('C:/Users/iai/Desktop/video_extraction/YOLOX_outputs/yolox_voc_s/vis_res')\n",
    "                      \n",
    "    except OSError:\n",
    "        pass;\n",
    "        \n",
    "    \n",
    "    \n",
    "    \n",
    "    \n"
   ]
  },
  {
   "cell_type": "code",
   "execution_count": null,
   "id": "79efe8b4",
   "metadata": {},
   "outputs": [],
   "source": []
  }
 ],
 "metadata": {
  "kernelspec": {
   "display_name": "Pytorch",
   "language": "python",
   "name": "pytorch"
  },
  "language_info": {
   "codemirror_mode": {
    "name": "ipython",
    "version": 3
   },
   "file_extension": ".py",
   "mimetype": "text/x-python",
   "name": "python",
   "nbconvert_exporter": "python",
   "pygments_lexer": "ipython3",
   "version": "3.7.12"
  }
 },
 "nbformat": 4,
 "nbformat_minor": 5
}
