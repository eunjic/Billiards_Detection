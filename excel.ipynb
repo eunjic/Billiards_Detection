{
 "cells": [
  {
   "cell_type": "code",
   "execution_count": 1,
   "id": "cf7965cf",
   "metadata": {},
   "outputs": [
    {
     "ename": "ModuleNotFoundError",
     "evalue": "No module named 'openpyxl'",
     "output_type": "error",
     "traceback": [
      "\u001b[0;31m---------------------------------------------------------------------------\u001b[0m",
      "\u001b[0;31mModuleNotFoundError\u001b[0m                       Traceback (most recent call last)",
      "Input \u001b[0;32mIn [1]\u001b[0m, in \u001b[0;36m<cell line: 2>\u001b[0;34m()\u001b[0m\n\u001b[1;32m      1\u001b[0m \u001b[38;5;28;01mimport\u001b[39;00m \u001b[38;5;21;01mos\u001b[39;00m\n\u001b[0;32m----> 2\u001b[0m \u001b[38;5;28;01mimport\u001b[39;00m \u001b[38;5;21;01mopenpyxl\u001b[39;00m \u001b[38;5;28;01mas\u001b[39;00m \u001b[38;5;21;01mop\u001b[39;00m\n\u001b[1;32m      3\u001b[0m \u001b[38;5;66;03m#엑셀 이미지 삽입을 위한 openpyxl import\u001b[39;00m\n\u001b[1;32m      4\u001b[0m \u001b[38;5;28;01mfrom\u001b[39;00m \u001b[38;5;21;01mopenpyxl\u001b[39;00m\u001b[38;5;21;01m.\u001b[39;00m\u001b[38;5;21;01mdrawing\u001b[39;00m\u001b[38;5;21;01m.\u001b[39;00m\u001b[38;5;21;01mimage\u001b[39;00m \u001b[38;5;28;01mimport\u001b[39;00m Image\n",
      "\u001b[0;31mModuleNotFoundError\u001b[0m: No module named 'openpyxl'"
     ]
    }
   ],
   "source": [
    "import os\n",
    "import openpyxl as op\n",
    "#엑셀 이미지 삽입을 위한 openpyxl import\n",
    "from openpyxl.drawing.image import Image\n",
    "#openpyxl Image 클래스와 중복되므로 PIL은 pi로 설정\n",
    "from PIL import Image as pi\n",
    "import pandas as pd\n",
    "import json"
   ]
  },
  {
   "cell_type": "code",
   "execution_count": 3,
   "id": "94274731",
   "metadata": {},
   "outputs": [],
   "source": [
    "wb = op.load_workbook(\"C:/Users/iai/Desktop/video_extraction/labeling.xlsx\")\n",
    "ws = wb['000']\n",
    "count = 14\n",
    "\n",
    "file_path = \"C:/Users/iai/Desktop/video_extraction/outputs\"\n",
    "#이미지 객체 생성\n",
    "img = Image(file_path+\"/004/12/action.png\")\n",
    "#이미지를 \"A1\"에 추가\n",
    "ws.add_image(img, \"B{}\".format(count))\n",
    "#파일 이름 저장\n",
    "\n",
    "wb.save(\"C:/Users/iai/Desktop/video_extraction/labeling.xlsx\")"
   ]
  },
  {
   "cell_type": "code",
   "execution_count": 8,
   "id": "176372a6",
   "metadata": {},
   "outputs": [
    {
     "data": {
      "text/plain": [
       "['000', '001']"
      ]
     },
     "execution_count": 8,
     "metadata": {},
     "output_type": "execute_result"
    }
   ],
   "source": [
    "file_path = \"C:/Users/iai/Desktop/video_extraction/outputs\"\n",
    "os.listdir(file_path)[:2]"
   ]
  },
  {
   "cell_type": "code",
   "execution_count": 12,
   "id": "514a84d2",
   "metadata": {},
   "outputs": [
    {
     "name": "stdout",
     "output_type": "stream",
     "text": [
      "000  finish!\n",
      "001  finish!\n"
     ]
    }
   ],
   "source": [
    "file_path = \"C:/Users/iai/Desktop/video_extraction/outputs\"\n",
    "\n",
    "#리스트 for문 실행\n",
    "\n",
    "wb = op.load_workbook(\"C:/Users/iai/Desktop/video_extraction/labeling.xlsx\")\n",
    "for video in os.listdir(file_path)[:2]:\n",
    "    #openpyxl Workbook 객체 생성\n",
    "    VIDEO = file_path + \"/\" + video\n",
    "    #시트 설정\n",
    "    ws = wb[video]\n",
    "    count = 2\n",
    "    for action in os.listdir(VIDEO):\n",
    "        img_path = VIDEO + \"/\" + action + \"/action.png\"\n",
    "        if os.path.exists(img_path):\n",
    "            \n",
    "            #이미지 객체 생성\n",
    "            img = Image(img_path)\n",
    "            #이미지를 \"A1\"에 추가\n",
    "            ws.add_image(img, \"B{}\".format(count))\n",
    "            #파일 이름 저장\n",
    "            ws[\"A{}\".format(count)] = action\n",
    "            #엑셀 파일 저장\n",
    "            count += 1\n",
    "            wb.save(\"C:/Users/iai/Desktop/video_extraction/labeling.xlsx\")\n",
    "        else:\n",
    "            \n",
    "            pass;\n",
    "    print(video, \" finish!\")"
   ]
  },
  {
   "cell_type": "code",
   "execution_count": 12,
   "id": "79088a6b",
   "metadata": {
    "scrolled": true
   },
   "outputs": [
    {
     "name": "stdout",
     "output_type": "stream",
     "text": [
      "['000', '001', '002', '003', '004', '005', '006', '007', '008', '009', '010', '011', '012', '013', '014', '015', '016', '017', '018', '019', '020', '021', '022', '023', '024', '025', '026']\n"
     ]
    }
   ],
   "source": [
    "wb = op.load_workbook(\"C:/Users/iai/Desktop/video_extraction/labeling.xlsx\")\n",
    "print(wb.sheetnames)"
   ]
  },
  {
   "cell_type": "code",
   "execution_count": 11,
   "id": "636055e6",
   "metadata": {},
   "outputs": [],
   "source": [
    "wb = op.load_workbook(\"C:/Users/iai/Desktop/video_extraction/labeling.xlsx\")\n",
    "file_path = \"C:/Users/iai/Desktop/video_extraction/outputs\"\n",
    "#시트 설정\n",
    "count = 1\n",
    "for video in os.listdir(file_path):\n",
    "    ws_copy = wb.copy_worksheet(wb['000'])\n",
    "    ws_copy.title = video\n",
    "    wb.save(\"C:/Users/iai/Desktop/video_extraction/labeling.xlsx\")\n",
    "    wb.close()\n",
    "    count += 1 \n"
   ]
  },
  {
   "cell_type": "markdown",
   "id": "ecc46ad6",
   "metadata": {},
   "source": [
    "데이터 불러오기"
   ]
  },
  {
   "cell_type": "code",
   "execution_count": 2,
   "id": "ac32032f",
   "metadata": {},
   "outputs": [],
   "source": [
    "num = '004'\n",
    "df = pd.read_excel(\"C:/Users/iai/Desktop/video_extraction/labeling.xlsx\", sheet_name = num,  usecols = ['Score', 'Kiss', 'Skill'])\n",
    "data = df.values.tolist()\n",
    "#int float str\n",
    "\n",
    "PATH = \"C:/Users/iai/Desktop/video_extraction/outputs/\" + num\n",
    "count = 0\n",
    "for action in os.listdir(PATH):\n",
    "    INFO = PATH + \"/\" + action + \"/info.json\"\n",
    "    with open(INFO, 'r', encoding = 'utf-8') as json_file:\n",
    "        info1 = json.load(json_file)\n",
    "    \n",
    "    del(info1['kiss'])\n",
    "    del(info1['score'])\n",
    "    del(info1['skill'])\n",
    "    \n",
    "    score = data[count][0]\n",
    "    kiss = int(data[count][1])\n",
    "    skill = data[count][2]\n",
    "    \n",
    "    add_dict = { \"kiss\" : str(kiss), \"score\" : str(score), \"skill\" : skill}\n",
    "    info1.update(add_dict)\n",
    "    \n",
    "    with open(INFO, 'w', encoding = 'utf-8') as out_file:\n",
    "        json.dump(info1, out_file,  ensure_ascii=False, indent=\"\\t\")\n",
    "    count += 1\n",
    "#003까지 완료!"
   ]
  },
  {
   "cell_type": "code",
   "execution_count": 3,
   "id": "a0363091",
   "metadata": {},
   "outputs": [
    {
     "data": {
      "text/plain": [
       "[[0, 0, 0, 'grand_rotation'],\n",
       " [1, 0, 0, 'grand_rotation'],\n",
       " [2, 0, 1, 'cross_table'],\n",
       " [3, 0, 0, 'long_angle'],\n",
       " [4, 1, 0, 'grand_rotation'],\n",
       " [5, 1, 0, 'side_angle'],\n",
       " [6, 1, 0, 'cross_table'],\n",
       " [7, 1, 0, 'side_angle'],\n",
       " [8, 1, 0, 'outside_angle'],\n",
       " [9, 1, 0, 'grand_rotation'],\n",
       " [10, 1, 0, 'side_angle'],\n",
       " [11, 0, 1, 'outside_angle'],\n",
       " [12, 1, 0, 'cross_table'],\n",
       " [13, 0, 0, 'grand_rotation'],\n",
       " [14, 0, 0, 'grand_rotation'],\n",
       " [15, 1, 0, 'bank_shot'],\n",
       " [16, 0, 0, 'grand_rotation'],\n",
       " [17, 0, 0, 'side_angle'],\n",
       " [18, 0, 0, 'cross_table'],\n",
       " [19, 1, 0, 'bank_shot'],\n",
       " [21, 0, 0, 'long_angle'],\n",
       " [22, 0, 0, 'grand_rotation'],\n",
       " [23, 0, 0, 'grand_rotation'],\n",
       " [24, 0, 0, 'outside_angle'],\n",
       " [25, 0, 0, 'side_angle'],\n",
       " [26, 1, 0, 'grand_rotation'],\n",
       " [27, 1, 0, 'grand_rotation'],\n",
       " [28, 0, 0, 'bank_shot'],\n",
       " [29, 0, 0, 'cross_table'],\n",
       " [30, 0, 0, 'bank_shot'],\n",
       " [31, 0, 0, 'grand_rotation'],\n",
       " [32, 0, 0, 'long_angle'],\n",
       " [33, 0, 0, 'grand_rotation'],\n",
       " [34, 0, 0, 'grand_rotation'],\n",
       " [35, 1, 0, 'outside_angle'],\n",
       " [36, 1, 0, 'grand_rotation'],\n",
       " [37, 1, 0, 'grand_rotation'],\n",
       " [38, 0, 0, 'grand_rotation'],\n",
       " [39, 0, 0, 'bank_shot'],\n",
       " [40, 0, 1, 'cross_table'],\n",
       " [41, 1, 0, 'grand_rotation'],\n",
       " [42, 1, 0, 'long_angle'],\n",
       " [43, 0, 0, 'long_angle'],\n",
       " [44, 0, 0, 'grand_rotation'],\n",
       " [45, 0, 0, 'grand_rotation'],\n",
       " [46, 1, 0, 'side_angle'],\n",
       " [47, 1, 0, 'grand_rotation'],\n",
       " [48, 1, 0, 'long_angle'],\n",
       " [49, 0, 0, 'grand_rotation'],\n",
       " [50, 1, 0, 'outside_angle'],\n",
       " [51, 1, 0, 'bank_shot'],\n",
       " [52, 1, 0, 'grand_rotation'],\n",
       " [53, 0, 0, 'grand_rotation'],\n",
       " [55, 1, 0, 'grand_rotation'],\n",
       " [56, 0, 0, 'outside_angle'],\n",
       " [57, 0, 1, 'grand_rotation'],\n",
       " [58, 0, 0, 'outside_angle'],\n",
       " [59, 1, 0, 'side_angle']]"
      ]
     },
     "execution_count": 3,
     "metadata": {},
     "output_type": "execute_result"
    }
   ],
   "source": [
    "df = pd.read_excel(\"C:/Users/iai/Desktop/video_extraction/labeling.xlsx\", sheet_name = num,  usecols = ['FileName','Score', 'Kiss', 'Skill'])\n",
    "data = df.values.tolist()\n",
    "data\n"
   ]
  },
  {
   "cell_type": "code",
   "execution_count": null,
   "id": "85dc6bb2",
   "metadata": {},
   "outputs": [],
   "source": []
  }
 ],
 "metadata": {
  "kernelspec": {
   "display_name": "Python 3 (ipykernel)",
   "language": "python",
   "name": "python3"
  },
  "language_info": {
   "codemirror_mode": {
    "name": "ipython",
    "version": 3
   },
   "file_extension": ".py",
   "mimetype": "text/x-python",
   "name": "python",
   "nbconvert_exporter": "python",
   "pygments_lexer": "ipython3",
   "version": "3.8.13"
  }
 },
 "nbformat": 4,
 "nbformat_minor": 5
}
